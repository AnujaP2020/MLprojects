{
 "cells": [
  {
   "cell_type": "markdown",
   "metadata": {},
   "source": [
    "## Project\n",
    "\n",
    "### Name:  Anuja (NetId:)                                                              \n",
    "### Name:  Fnu,Sharmila Bolikoppa Palakshappa (Net Id : bm6575)\n"
   ]
  },
  {
   "cell_type": "markdown",
   "metadata": {},
   "source": [
    "### Q1 [3pts]: Use MLP (neural network) with 5 different sets of parameters (changing for example, #hidden layers, #units  in each layer, regularization, learning rate). Report the training and test errors and the parameters you used for each setting in a table as shown above.  "
   ]
  },
  {
   "cell_type": "code",
   "execution_count": 78,
   "metadata": {},
   "outputs": [],
   "source": [
    "import warnings\n",
    "warnings.filterwarnings(\"ignore\")\n",
    "import numpy as np\n",
    "from sklearn import metrics\n",
    "\n",
    "from pandas import DataFrame, read_csv, to_numeric\n",
    "from sklearn import cluster\n",
    "import pandas as pd\n",
    "from sklearn.neural_network import MLPClassifier\n",
    "from sklearn.metrics import confusion_matrix,accuracy_score\n",
    "\n",
    "df_train = read_csv('diabetes_train.csv')\n",
    "df_test = read_csv('diabetes_test.csv')"
   ]
  },
  {
   "cell_type": "code",
   "execution_count": 79,
   "metadata": {},
   "outputs": [
    {
     "data": {
      "text/html": [
       "<div>\n",
       "<style scoped>\n",
       "    .dataframe tbody tr th:only-of-type {\n",
       "        vertical-align: middle;\n",
       "    }\n",
       "\n",
       "    .dataframe tbody tr th {\n",
       "        vertical-align: top;\n",
       "    }\n",
       "\n",
       "    .dataframe thead th {\n",
       "        text-align: right;\n",
       "    }\n",
       "</style>\n",
       "<table border=\"1\" class=\"dataframe\">\n",
       "  <thead>\n",
       "    <tr style=\"text-align: right;\">\n",
       "      <th></th>\n",
       "      <th>params</th>\n",
       "      <th>Train error</th>\n",
       "      <th>Test error</th>\n",
       "    </tr>\n",
       "  </thead>\n",
       "  <tbody>\n",
       "    <tr>\n",
       "      <th>0</th>\n",
       "      <td>{'activation': 'tanh', 'alpha': 0.001, 'hidden_layer_sizes': (10, 50), 'learning_rate': 'invscaling', 'max_iter': 500}</td>\n",
       "      <td>0.331279</td>\n",
       "      <td>0.352941</td>\n",
       "    </tr>\n",
       "    <tr>\n",
       "      <th>1</th>\n",
       "      <td>{'activation': 'tanh', 'alpha': 0.001, 'hidden_layer_sizes': (10, 50), 'learning_rate': 'invscaling', 'max_iter': 1000}</td>\n",
       "      <td>0.275809</td>\n",
       "      <td>0.344538</td>\n",
       "    </tr>\n",
       "    <tr>\n",
       "      <th>2</th>\n",
       "      <td>{'activation': 'tanh', 'alpha': 0.001, 'hidden_layer_sizes': (10, 50), 'learning_rate': 'adaptive', 'max_iter': 500}</td>\n",
       "      <td>0.295840</td>\n",
       "      <td>0.411765</td>\n",
       "    </tr>\n",
       "    <tr>\n",
       "      <th>3</th>\n",
       "      <td>{'activation': 'tanh', 'alpha': 0.001, 'hidden_layer_sizes': (10, 50), 'learning_rate': 'adaptive', 'max_iter': 1000}</td>\n",
       "      <td>0.298921</td>\n",
       "      <td>0.428571</td>\n",
       "    </tr>\n",
       "    <tr>\n",
       "      <th>4</th>\n",
       "      <td>{'activation': 'tanh', 'alpha': 0.001, 'hidden_layer_sizes': (70, 100), 'learning_rate': 'invscaling', 'max_iter': 500}</td>\n",
       "      <td>0.126348</td>\n",
       "      <td>0.369748</td>\n",
       "    </tr>\n",
       "    <tr>\n",
       "      <th>5</th>\n",
       "      <td>{'activation': 'tanh', 'alpha': 0.001, 'hidden_layer_sizes': (70, 100), 'learning_rate': 'invscaling', 'max_iter': 1000}</td>\n",
       "      <td>0.151002</td>\n",
       "      <td>0.428571</td>\n",
       "    </tr>\n",
       "    <tr>\n",
       "      <th>6</th>\n",
       "      <td>{'activation': 'tanh', 'alpha': 0.001, 'hidden_layer_sizes': (70, 100), 'learning_rate': 'adaptive', 'max_iter': 500}</td>\n",
       "      <td>0.175655</td>\n",
       "      <td>0.428571</td>\n",
       "    </tr>\n",
       "    <tr>\n",
       "      <th>7</th>\n",
       "      <td>{'activation': 'tanh', 'alpha': 0.001, 'hidden_layer_sizes': (70, 100), 'learning_rate': 'adaptive', 'max_iter': 1000}</td>\n",
       "      <td>0.155624</td>\n",
       "      <td>0.361345</td>\n",
       "    </tr>\n",
       "  </tbody>\n",
       "</table>\n",
       "</div>"
      ],
      "text/plain": [
       "                                                                                                                     params  \\\n",
       "0    {'activation': 'tanh', 'alpha': 0.001, 'hidden_layer_sizes': (10, 50), 'learning_rate': 'invscaling', 'max_iter': 500}   \n",
       "1   {'activation': 'tanh', 'alpha': 0.001, 'hidden_layer_sizes': (10, 50), 'learning_rate': 'invscaling', 'max_iter': 1000}   \n",
       "2      {'activation': 'tanh', 'alpha': 0.001, 'hidden_layer_sizes': (10, 50), 'learning_rate': 'adaptive', 'max_iter': 500}   \n",
       "3     {'activation': 'tanh', 'alpha': 0.001, 'hidden_layer_sizes': (10, 50), 'learning_rate': 'adaptive', 'max_iter': 1000}   \n",
       "4   {'activation': 'tanh', 'alpha': 0.001, 'hidden_layer_sizes': (70, 100), 'learning_rate': 'invscaling', 'max_iter': 500}   \n",
       "5  {'activation': 'tanh', 'alpha': 0.001, 'hidden_layer_sizes': (70, 100), 'learning_rate': 'invscaling', 'max_iter': 1000}   \n",
       "6     {'activation': 'tanh', 'alpha': 0.001, 'hidden_layer_sizes': (70, 100), 'learning_rate': 'adaptive', 'max_iter': 500}   \n",
       "7    {'activation': 'tanh', 'alpha': 0.001, 'hidden_layer_sizes': (70, 100), 'learning_rate': 'adaptive', 'max_iter': 1000}   \n",
       "\n",
       "   Train error  Test error  \n",
       "0     0.331279    0.352941  \n",
       "1     0.275809    0.344538  \n",
       "2     0.295840    0.411765  \n",
       "3     0.298921    0.428571  \n",
       "4     0.126348    0.369748  \n",
       "5     0.151002    0.428571  \n",
       "6     0.175655    0.428571  \n",
       "7     0.155624    0.361345  "
      ]
     },
     "execution_count": 79,
     "metadata": {},
     "output_type": "execute_result"
    }
   ],
   "source": [
    "from itertools import product\n",
    "\n",
    "def get_params():\n",
    "    parameters = {'hidden_layer_sizes':[(10,50),(70,100)], 'max_iter':[500, 1000] , 'learning_rate': ['invscaling','adaptive'], 'alpha':[0.001] , 'activation':['tanh']}\n",
    "    items = sorted(parameters.items())\n",
    "    keys, values = zip(*items)\n",
    "    for v in product(*values):\n",
    "        params = dict(zip(keys, v))\n",
    "        yield params\n",
    "\n",
    "def mlp_model(params,df_train,df_test):\n",
    "    mlp = MLPClassifier(**params)\n",
    "    mlp.fit(df_train.drop(columns=['Outcome']), df_train['Outcome'])\n",
    "    train_error = 1 - mlp.score(df_train.drop(columns=['Outcome']), df_train['Outcome'])\n",
    "    test_error = 1 - mlp.score(df_test.drop(columns=['Outcome']), df_test['Outcome'])\n",
    "    return train_error,test_error\n",
    "\n",
    "params = get_params()\n",
    "results = []\n",
    "for p in params:\n",
    "    mlp_train_error,mlp_test_error = mlp_model(p,df_train,df_test)\n",
    "    results.append([p,mlp_train_error,mlp_test_error])\n",
    "\n",
    "columns = [\"params\",\"Train error\",\"Test error\"]\n",
    "df_results = pd.DataFrame(results,columns=columns)   \n",
    "df_results\n",
    "    "
   ]
  },
  {
   "cell_type": "markdown",
   "metadata": {},
   "source": [
    "### Q2 [3pts]: Use decision tree with 5 different sets of parameters. "
   ]
  },
  {
   "cell_type": "markdown",
   "metadata": {},
   "source": [
    "### Q3 [3pts]: Use random forest with 5 different sets of parameters."
   ]
  }
 ],
 "metadata": {
  "kernelspec": {
   "display_name": "Python 3",
   "language": "python",
   "name": "python3"
  },
  "language_info": {
   "codemirror_mode": {
    "name": "ipython",
    "version": 3
   },
   "file_extension": ".py",
   "mimetype": "text/x-python",
   "name": "python",
   "nbconvert_exporter": "python",
   "pygments_lexer": "ipython3",
   "version": "3.7.6"
  }
 },
 "nbformat": 4,
 "nbformat_minor": 4
}
