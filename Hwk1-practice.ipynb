{
 "cells": [
  {
   "cell_type": "markdown",
   "metadata": {},
   "source": [
    "## For Assignment 1"
   ]
  },
  {
   "cell_type": "markdown",
   "metadata": {},
   "source": [
    "### https://www.kaggle.com/uciml/pima-indians-diabetes-database - Download the indian diabetes dataset"
   ]
  },
  {
   "cell_type": "markdown",
   "metadata": {},
   "source": [
    "1.Import relevant commands for numpy, pandas, sklearn."
   ]
  },
  {
   "cell_type": "code",
   "execution_count": 10,
   "metadata": {},
   "outputs": [],
   "source": [
    "import numpy as np\n",
    "from pandas import DataFrame, read_csv, to_numeric\n",
    "from sklearn import cluster\n",
    "from sklearn.naive_bayes import GaussianNB\n",
    "from sklearn.linear_model import LogisticRegression\n",
    "from sklearn.neighbors import KNeighborsClassifier\n"
   ]
  },
  {
   "cell_type": "markdown",
   "metadata": {},
   "source": [
    "2.Using the appropriate pandas function, read the diabetes.csv into a dataframe. Pay good attention to the necessary arguments."
   ]
  },
  {
   "cell_type": "code",
   "execution_count": 98,
   "metadata": {},
   "outputs": [
    {
     "name": "stdout",
     "output_type": "stream",
     "text": [
      "     Pregnancies  Glucose  BloodPressure  SkinThickness  Insulin   BMI  \\\n",
      "0              5       95             72             33        0  37.7   \n",
      "1              0      131              0              0        0  43.2   \n",
      "2              2      112             66             22        0  25.0   \n",
      "3              3      113             44             13        0  22.4   \n",
      "4              2       74              0              0        0   0.0   \n",
      "..           ...      ...            ...            ...      ...   ...   \n",
      "763           13      126             90              0        0  43.4   \n",
      "764            4      129             86             20      270  35.1   \n",
      "765            1       79             75             30        0  32.0   \n",
      "766            1        0             48             20        0  24.7   \n",
      "767            7       62             78              0        0  32.6   \n",
      "\n",
      "     DiabetesPedigreeFunction  Age  Outcome  \n",
      "0                       0.370   27        0  \n",
      "1                       0.270   26        1  \n",
      "2                       0.307   24        0  \n",
      "3                       0.140   22        0  \n",
      "4                       0.102   22        0  \n",
      "..                        ...  ...      ...  \n",
      "763                     0.583   42        1  \n",
      "764                     0.231   23        0  \n",
      "765                     0.396   22        0  \n",
      "766                     0.140   22        0  \n",
      "767                     0.391   41        0  \n",
      "\n",
      "[768 rows x 9 columns]\n"
     ]
    },
    {
     "data": {
      "text/plain": [
       "Index(['Pregnancies', 'Glucose', 'BloodPressure', 'SkinThickness', 'Insulin',\n",
       "       'BMI', 'DiabetesPedigreeFunction', 'Age', 'Outcome'],\n",
       "      dtype='object')"
      ]
     },
     "execution_count": 98,
     "metadata": {},
     "output_type": "execute_result"
    }
   ],
   "source": [
    "data = read_csv('diabetes.csv', sep=\",\")\n",
    "print(data)\n",
    "data.columns"
   ]
  },
  {
   "cell_type": "markdown",
   "metadata": {},
   "source": [
    "3.use naivebayes, logistic regression and 3-nn classifiers (library) to train on the training sets and \n",
    "compute training and validation errors for each fold (see the diabetes_10fold_train_val.zip file, XT01...XT10: training sets, XV01....XV10: corresponding validation sets). The target label is Outcome."
   ]
  },
  {
   "cell_type": "code",
   "execution_count": 99,
   "metadata": {},
   "outputs": [
    {
     "name": "stdout",
     "output_type": "stream",
     "text": [
      "Features\n",
      "     Glucose  BloodPressure  SkinThickness  Insulin   BMI  \\\n",
      "0         83             66             23       50  32.2   \n",
      "1         99             54             28       83  34.0   \n",
      "2          0             74             20       23  27.7   \n",
      "3        100              0              0        0  30.0   \n",
      "4        106             70              0        0  34.2   \n",
      "..       ...            ...            ...      ...   ...   \n",
      "687      100             68             25       71  38.5   \n",
      "688      132             78              0        0  32.4   \n",
      "689      151             90             46        0  42.1   \n",
      "690      173             78             32      265  46.5   \n",
      "691      107             76              0        0  45.3   \n",
      "\n",
      "     DiabetesPedigreeFunction  Age  \n",
      "0                       0.497   22  \n",
      "1                       0.499   30  \n",
      "2                       0.299   21  \n",
      "3                       0.484   32  \n",
      "4                       0.251   52  \n",
      "..                        ...  ...  \n",
      "687                     0.324   26  \n",
      "688                     0.393   21  \n",
      "689                     0.371   21  \n",
      "690                     1.159   58  \n",
      "691                     0.686   24  \n",
      "\n",
      "[692 rows x 7 columns]\n",
      "Label\n",
      "0      0\n",
      "1      0\n",
      "2      0\n",
      "3      1\n",
      "4      0\n",
      "      ..\n",
      "687    0\n",
      "688    0\n",
      "689    1\n",
      "690    0\n",
      "691    0\n",
      "Name: Outcome, Length: 692, dtype: int64\n"
     ]
    },
    {
     "data": {
      "text/plain": [
       "GaussianNB()"
      ]
     },
     "execution_count": 99,
     "metadata": {},
     "output_type": "execute_result"
    }
   ],
   "source": [
    "    \n",
    "    \n",
    "    #Create a Gaussian Classifier\n",
    "    gnb = GaussianNB()\n",
    "\n",
    "    #Import scikit-learn metrics module for accuracy calculation\n",
    "    from sklearn import metrics\n",
    "\n",
    "    trainingSet = '/media/anuja/study/Anuja/MS/CS_697A(ML)/hw1/diabetes_10fold_train_val/XT'+file_number[i]+'.csv'\n",
    "    XT = read_csv(trainingSet, sep=\",\")\n",
    "    validationSet = '/media/anuja/study/Anuja/MS/CS_697A(ML)/hw1/diabetes_10fold_train_val/XV'+file_number[i]+'.csv'\n",
    "    VT = read_csv(validationSet, sep=\",\")\n",
    "    \n",
    "    # all features in x train\n",
    "    X_train = XT.iloc[:,1:8]\n",
    "    print(\"Features\")\n",
    "    print(X_train)\n",
    "    # outcome or label in Y train\n",
    "    Y_train = XT.iloc[:,8]\n",
    "    print(\"Label\")\n",
    "    print(Y_train)\n",
    "    \n",
    "    #Train the model using the training sets\n",
    "    gnb.fit(X_train, Y_train)"
   ]
  },
  {
   "cell_type": "code",
   "execution_count": 81,
   "metadata": {},
   "outputs": [
    {
     "name": "stdout",
     "output_type": "stream",
     "text": [
      "Accuracy for training set 01:  0.7894736842105263\n",
      "Error :  0.21052631578947367\n",
      "Accuracy for training set 02:  0.7142857142857143\n",
      "Error :  0.2857142857142857\n",
      "Accuracy for training set 03:  0.7012987012987013\n",
      "Error :  0.2987012987012987\n",
      "Accuracy for training set 04:  0.8311688311688312\n",
      "Error :  0.16883116883116878\n",
      "Accuracy for training set 05:  0.7792207792207793\n",
      "Error :  0.22077922077922074\n",
      "Accuracy for training set 06:  0.7402597402597403\n",
      "Error :  0.2597402597402597\n",
      "Accuracy for training set 07:  0.7792207792207793\n",
      "Error :  0.22077922077922074\n",
      "Accuracy for training set 08:  0.7272727272727273\n",
      "Error :  0.2727272727272727\n",
      "Accuracy for training set 09:  0.8181818181818182\n",
      "Error :  0.18181818181818177\n",
      "Accuracy for training set 10:  0.6973684210526315\n",
      "Error :  0.3026315789473685\n"
     ]
    }
   ],
   "source": [
    "# # Import LabelEncoder\n",
    "from sklearn import preprocessing\n",
    "# import first training set\n",
    "t1 = read_csv('/media/anuja/study/Anuja/MS/CS_697A(ML)/hw1/diabetes_10fold_train_val/XT01.csv', sep=\",\")\n",
    "v1 = read_csv('/media/anuja/study/Anuja/MS/CS_697A(ML)/hw1/diabetes_10fold_train_val/XV01.csv', sep=\",\")\n",
    "\n",
    "# #creating labelEncoder\n",
    "# le = preprocessing.LabelEncoder()\n",
    "\n",
    "# # feature1\n",
    "# # Converting string labels into numbers.\n",
    "# pregnancies_encoded=le.fit_transform((t1.iloc[:,0]))\n",
    "# print (\"Pregnancies:\",pregnancies_encoded)\n",
    "\n",
    "# # feature2\n",
    "# # Converting string labels into numbers.\n",
    "# glucose_encoded=le.fit_transform((t1.iloc[:,1]))\n",
    "# print (\"Glucose:\",glucose_encoded)\n",
    "\n",
    "# # feature3\n",
    "# # Converting string labels into numbers.\n",
    "# bp_encoded=le.fit_transform((t1.iloc[:,2]))\n",
    "# print (\"BloodPressure:\",bp_encoded)\n",
    "\n",
    "# # feature4\n",
    "# # Converting string labels into numbers.\n",
    "# skinthickness_encoded=le.fit_transform((t1.iloc[:,3]))\n",
    "# print (\"SkinThickness:\",skinthickness_encoded)\n",
    "\n",
    "# # feature5\n",
    "# # Converting string labels into numbers.\n",
    "# insulin_encoded=le.fit_transform((t1.iloc[:,4]))\n",
    "# print (\"Insulin:\",insulin_encoded)\n",
    "\n",
    "# # feature6\n",
    "# # Converting string labels into numbers.\n",
    "# bmi_encoded=le.fit_transform((t1.iloc[:,5]))\n",
    "# print (\"BMI:\",bmi_encoded)\n",
    "\n",
    "# # feature7\n",
    "# # Converting string labels into numbers.\n",
    "# pedigreeFunction_encoded=le.fit_transform((t1.iloc[:,6]))\n",
    "# print (\"DiabetesPedigreeFunction:\",pedigreeFunction_encoded)\n",
    "\n",
    "# # feature8\n",
    "# # Converting string labels into numbers.\n",
    "# age_encoded=le.fit_transform((t1.iloc[:,7]))\n",
    "# print (\"Age:\",age_encoded)\n",
    "\n",
    "# # outcome\n",
    "# label=le.fit_transform((t1.iloc[:,8]))\n",
    "# print (\"Outcome:\",label)\n",
    "\n",
    "# #Combinig weather and temp into single listof tuples\n",
    "# features=list(zip(pregnancies_encoded, glucose_encoded, bp_encoded, skinthickness_encoded, insulin_encoded, bmi_encoded, pedigreeFunction_encoded, age_encoded))\n",
    "# print (features)\n",
    "\n",
    "# #Create a Gaussian Classifier\n",
    "# model = GaussianNB()\n",
    "\n",
    "# # Train the model using the training sets\n",
    "# model.fit(features,label)\n",
    "\n",
    "# #Predict Output\n",
    "# predicted= model.predict([[7,178,84,0,0,39.9,0.331,41]]) \n",
    "# print (\"Predicted Value:\", predicted)\n",
    "# predicted2= model.predict([[6,98,58,33,190,34,0.43,43]])\n",
    "# print (\"Predicted Value2:\", predicted2)\n",
    "\n",
    "\n",
    "#Create a Gaussian Classifier\n",
    "gnb = GaussianNB()\n",
    "\n",
    "#Import scikit-learn metrics module for accuracy calculation\n",
    "from sklearn import metrics\n",
    "\n",
    "# # all features in x train\n",
    "# X_train = t1.iloc[:,1:8]\n",
    "# print(\"Features\")\n",
    "# print(X_train)\n",
    "# # outcome or label in Y train\n",
    "# Y_train = t1.iloc[:,8]\n",
    "# print(\"Label\")\n",
    "# print(Y_train)\n",
    "\n",
    "# #Train the model using the training sets\n",
    "# gnb.fit(X_train, Y_train)\n",
    "\n",
    "# #Predict the response for test dataset\n",
    "# y_pred = gnb.predict(v1.iloc[:,1:8])\n",
    "# print(y_pred)\n",
    "\n",
    "# #Import scikit-learn metrics module for accuracy calculation\n",
    "# from sklearn import metrics\n",
    "# accuracy = metrics.accuracy_score(v1.iloc[:,8], y_pred)\n",
    "# # Model Accuracy, how often is the classifier correct?\n",
    "# print(\"Accuracy:\",accuracy)\n",
    "# print(\"Error:\",1- accuracy)\n",
    "X_train = []\n",
    "Y_train = []\n",
    "VT_features = []\n",
    "VT_label = []\n",
    "\n",
    "\n",
    "file_number = ['01','02','03','04','05','06','07','08','09','10']\n",
    "# loop here to calculate the error for each training set\n",
    "for i in range(len(file_number)):\n",
    "#     print(file_number[i])\n",
    "    trainingSet = '/media/anuja/study/Anuja/MS/CS_697A(ML)/hw1/diabetes_10fold_train_val/XT'+file_number[i]+'.csv'\n",
    "    XT = read_csv(trainingSet, sep=\",\")\n",
    "    validationSet = '/media/anuja/study/Anuja/MS/CS_697A(ML)/hw1/diabetes_10fold_train_val/XV'+file_number[i]+'.csv'\n",
    "    VT = read_csv(validationSet, sep=\",\")\n",
    "    \n",
    "    # all features in x train\n",
    "    X_train =  XT.iloc[:,1:8]\n",
    "#     print(\"Features\")\n",
    "#     print(X_train)\n",
    "    # outcome or label in Y train\n",
    "    Y_train = XT.iloc[:,8]\n",
    "#     print(\"Label\")\n",
    "#     print(Y_train)\n",
    "\n",
    "    #Train the model using the training sets\n",
    "    gnb.fit(X_train, Y_train)\n",
    "\n",
    "    #Predict the response for test dataset\n",
    "    VT_features =  VT.iloc[:,1:8]\n",
    "    y_pred = gnb.predict(VT_features)\n",
    "#     print(y_pred)\n",
    "\n",
    "    VT_label =  VT.iloc[:,8]\n",
    "    accuracy = metrics.accuracy_score(VT_label, y_pred)\n",
    "    # Model Accuracy, how often is the classifier correct?\n",
    "    print(\"Accuracy for training set \"+ file_number[i]+ \": \" ,accuracy)\n",
    "    print(\"Error : \",1- accuracy)\n",
    "\n",
    "\n",
    "# for name, model in models:\n",
    "# \tkfold = StratifiedKFold(n_splits=10, random_state=1, shuffle=True)\n",
    "# # \tcv_results = cross_val_score(model, X_train, Y_train, cv=kfold, scoring='accuracy')\n",
    "\n",
    "#     t1 = read_csv('/media/anuja/study/Anuja/MS/CS_697A(ML)/hw1/diabetes_10fold_train_val/XT01.csv', sep=\",\")\n",
    "#     v1 = read_csv('/media/anuja/study/Anuja/MS/CS_697A(ML)/hw1/diabetes_10fold_train_val/XV01.csv', sep=\",\")\n",
    "#     gnb.fit(X_train, Y_train)\n",
    "# \tresults.append(cv_results)\n",
    "# \tnames.append(name)\n",
    "# \tprint('%s: %f (%f)' % (name, cv_results.mean(), cv_results.std()))\n",
    "\n",
    "\n",
    "\n",
    "# trying new\n",
    "# Spot Check Algorithms  //https://machinelearningmastery.com/machine-learning-in-python-step-by-step/\n",
    "# models = []\n",
    "# models.append(('LR', LogisticRegression())\n",
    "# models.append(('KNN', KNeighborsClassifier()))\n",
    "# models.append(('NB', GaussianNB()))\n",
    "# # evaluate each model in turn\n",
    "# results = []\n",
    "# names = []\n",
    "# for name, model in models:\n",
    "# \tkfold = StratifiedKFold(n_splits=10, random_state=1, shuffle=True)\n",
    "# \tcv_results = cross_val_score(model, X_train, Y_train, cv=kfold, scoring='accuracy')\n",
    "# \tresults.append(cv_results)\n",
    "# \tnames.append(name)\n",
    "# \tprint('%s: %f (%f)' % (name, cv_results.mean(), cv_results.std()))\n"
   ]
  },
  {
   "cell_type": "code",
   "execution_count": 92,
   "metadata": {},
   "outputs": [
    {
     "name": "stdout",
     "output_type": "stream",
     "text": [
      "Accuracy for training set 01:  0.7894736842105263\n",
      "Error :  0.21052631578947367\n"
     ]
    }
   ],
   "source": [
    "#Create a Gaussian Classifier\n",
    "gnb = GaussianNB()\n",
    "\n",
    "#Import scikit-learn metrics module for accuracy calculation\n",
    "from sklearn import metrics\n",
    "file_number = ['01','02','03','04','05','06','07','08','09','10']\n",
    "# loop here to calculate the error for each training set\n",
    "for i in range(1):\n",
    "#     print(file_number[i])\n",
    "    trainingSet = '/media/anuja/study/Anuja/MS/CS_697A(ML)/hw1/diabetes_10fold_train_val/XT'+file_number[i]+'.csv'\n",
    "    XT = read_csv(trainingSet, sep=\",\")\n",
    "    validationSet = '/media/anuja/study/Anuja/MS/CS_697A(ML)/hw1/diabetes_10fold_train_val/XV'+file_number[i]+'.csv'\n",
    "    VT = read_csv(validationSet, sep=\",\")\n",
    "    \n",
    "    # all features in x train\n",
    "    X_train =  XT.iloc[:,1:8]\n",
    "#     print(\"Features\")\n",
    "#     print(X_train)\n",
    "    # outcome or label in Y train\n",
    "    Y_train = XT.iloc[:,8]\n",
    "#     print(\"Label\")\n",
    "#     print(Y_train)\n",
    "\n",
    "    #Train the model using the training sets\n",
    "    gnb.fit(X_train, Y_train)\n",
    "\n",
    "#Predict the response for test dataset\n",
    "VT_features =  VT.iloc[:,1:8]\n",
    "y_pred = gnb.predict(VT_features)\n",
    "#     print(y_pred)\n",
    "\n",
    "VT_label =  VT.iloc[:,8]\n",
    "accuracy = metrics.accuracy_score(VT_label, y_pred)\n",
    "# Model Accuracy, how often is the classifier correct?\n",
    "print(\"Accuracy for training set \"+ file_number[i]+ \": \" ,accuracy)\n",
    "print(\"Error : \",1- accuracy)"
   ]
  },
  {
   "cell_type": "code",
   "execution_count": 93,
   "metadata": {},
   "outputs": [
    {
     "name": "stdout",
     "output_type": "stream",
     "text": [
      "Accuracy for training set 02:  0.7763157894736842\n",
      "Error :  0.22368421052631582\n"
     ]
    }
   ],
   "source": [
    "#Create a Gaussian Classifier\n",
    "gnb = GaussianNB()\n",
    "\n",
    "#Import scikit-learn metrics module for accuracy calculation\n",
    "from sklearn import metrics\n",
    "file_number = ['01','02','03','04','05','06','07','08','09','10']\n",
    "# loop here to calculate the error for each training set\n",
    "for i in range(2):\n",
    "#     print(file_number[i])\n",
    "    trainingSet = '/media/anuja/study/Anuja/MS/CS_697A(ML)/hw1/diabetes_10fold_train_val/XT'+file_number[i]+'.csv'\n",
    "    XT = read_csv(trainingSet, sep=\",\")\n",
    "    \n",
    "    # all features in x train\n",
    "    X_train =  XT.iloc[:,1:8]\n",
    "#     print(\"Features\")\n",
    "#     print(X_train)\n",
    "    # outcome or label in Y train\n",
    "    Y_train = XT.iloc[:,8]\n",
    "#     print(\"Label\")\n",
    "#     print(Y_train)\n",
    "\n",
    "    #Train the model using the training sets\n",
    "    gnb.fit(X_train, Y_train)\n",
    "\n",
    "validationSet = '/media/anuja/study/Anuja/MS/CS_697A(ML)/hw1/diabetes_10fold_train_val/XV01.csv'\n",
    "VT = read_csv(validationSet, sep=\",\")\n",
    "#Predict the response for test dataset\n",
    "VT_features =  VT.iloc[:,1:8]\n",
    "y_pred = gnb.predict(VT_features)\n",
    "#     print(y_pred)\n",
    "\n",
    "VT_label =  VT.iloc[:,8]\n",
    "accuracy = metrics.accuracy_score(VT_label, y_pred)\n",
    "# Model Accuracy, how often is the classifier correct?\n",
    "print(\"Accuracy for training set \"+ file_number[i]+ \": \" ,accuracy)\n",
    "print(\"Error : \",1- accuracy)"
   ]
  },
  {
   "cell_type": "code",
   "execution_count": 84,
   "metadata": {},
   "outputs": [
    {
     "name": "stdout",
     "output_type": "stream",
     "text": [
      "Accuracy for training set 03:  0.7763157894736842\n",
      "Error :  0.22368421052631582\n"
     ]
    }
   ],
   "source": [
    "file_number = ['01','02','03','04','05','06','07','08','09','10']\n",
    "# loop here to calculate the error for each training set\n",
    "for i in range(3):\n",
    "#     print(file_number[i])\n",
    "    trainingSet = '/media/anuja/study/Anuja/MS/CS_697A(ML)/hw1/diabetes_10fold_train_val/XT'+file_number[i]+'.csv'\n",
    "    XT = read_csv(trainingSet, sep=\",\")\n",
    "    \n",
    "    # all features in x train\n",
    "    X_train =  XT.iloc[:,1:8]\n",
    "#     print(\"Features\")\n",
    "#     print(X_train)\n",
    "    # outcome or label in Y train\n",
    "    Y_train = XT.iloc[:,8]\n",
    "#     print(\"Label\")\n",
    "#     print(Y_train)\n",
    "\n",
    "    #Train the model using the training sets\n",
    "    gnb.fit(X_train, Y_train)\n",
    "\n",
    "validationSet = '/media/anuja/study/Anuja/MS/CS_697A(ML)/hw1/diabetes_10fold_train_val/XV01.csv'\n",
    "VT = read_csv(validationSet, sep=\",\")\n",
    "#Predict the response for test dataset\n",
    "VT_features =  VT.iloc[:,1:8]\n",
    "y_pred = gnb.predict(VT_features)\n",
    "#     print(y_pred)\n",
    "\n",
    "VT_label =  VT.iloc[:,8]\n",
    "accuracy = metrics.accuracy_score(VT_label, y_pred)\n",
    "# Model Accuracy, how often is the classifier correct?\n",
    "print(\"Accuracy for training set \"+ file_number[i]+ \": \" ,accuracy)\n",
    "print(\"Error : \",1- accuracy)"
   ]
  },
  {
   "cell_type": "code",
   "execution_count": 94,
   "metadata": {},
   "outputs": [
    {
     "name": "stdout",
     "output_type": "stream",
     "text": [
      "Accuracy for training set 04:  0.7894736842105263\n",
      "Error :  0.21052631578947367\n"
     ]
    }
   ],
   "source": [
    "#Create a Gaussian Classifier\n",
    "gnb = GaussianNB()\n",
    "\n",
    "#Import scikit-learn metrics module for accuracy calculation\n",
    "from sklearn import metrics\n",
    "file_number = ['01','02','03','04','05','06','07','08','09','10']\n",
    "# loop here to calculate the error for each training set\n",
    "for i in range(4):\n",
    "#     print(file_number[i])\n",
    "    trainingSet = '/media/anuja/study/Anuja/MS/CS_697A(ML)/hw1/diabetes_10fold_train_val/XT'+file_number[i]+'.csv'\n",
    "    XT = read_csv(trainingSet, sep=\",\")\n",
    "    \n",
    "    # all features in x train\n",
    "    X_train =  XT.iloc[:,1:8]\n",
    "#     print(\"Features\")\n",
    "#     print(X_train)\n",
    "    # outcome or label in Y train\n",
    "    Y_train = XT.iloc[:,8]\n",
    "#     print(\"Label\")\n",
    "#     print(Y_train)\n",
    "\n",
    "    #Train the model using the training sets\n",
    "    gnb.fit(X_train, Y_train)\n",
    "\n",
    "validationSet = '/media/anuja/study/Anuja/MS/CS_697A(ML)/hw1/diabetes_10fold_train_val/XV01.csv'\n",
    "VT = read_csv(validationSet, sep=\",\")\n",
    "#Predict the response for test dataset\n",
    "VT_features =  VT.iloc[:,1:8]\n",
    "y_pred = gnb.predict(VT_features)\n",
    "#     print(y_pred)\n",
    "\n",
    "VT_label =  VT.iloc[:,8]\n",
    "accuracy = metrics.accuracy_score(VT_label, y_pred)\n",
    "# Model Accuracy, how often is the classifier correct?\n",
    "print(\"Accuracy for training set \"+ file_number[i]+ \": \" ,accuracy)\n",
    "print(\"Error : \",1- accuracy)"
   ]
  },
  {
   "cell_type": "code",
   "execution_count": 86,
   "metadata": {},
   "outputs": [
    {
     "name": "stdout",
     "output_type": "stream",
     "text": [
      "Accuracy for training set 05:  0.8026315789473685\n",
      "Error :  0.19736842105263153\n"
     ]
    }
   ],
   "source": [
    "file_number = ['01','02','03','04','05','06','07','08','09','10']\n",
    "# loop here to calculate the error for each training set\n",
    "for i in range(5):\n",
    "#     print(file_number[i])\n",
    "    trainingSet = '/media/anuja/study/Anuja/MS/CS_697A(ML)/hw1/diabetes_10fold_train_val/XT'+file_number[i]+'.csv'\n",
    "    XT = read_csv(trainingSet, sep=\",\")\n",
    "    \n",
    "    # all features in x train\n",
    "    X_train =  XT.iloc[:,1:8]\n",
    "#     print(\"Features\")\n",
    "#     print(X_train)\n",
    "    # outcome or label in Y train\n",
    "    Y_train = XT.iloc[:,8]\n",
    "#     print(\"Label\")\n",
    "#     print(Y_train)\n",
    "\n",
    "    #Train the model using the training sets\n",
    "    gnb.fit(X_train, Y_train)\n",
    "\n",
    "validationSet = '/media/anuja/study/Anuja/MS/CS_697A(ML)/hw1/diabetes_10fold_train_val/XV01.csv'\n",
    "VT = read_csv(validationSet, sep=\",\")\n",
    "#Predict the response for test dataset\n",
    "VT_features =  VT.iloc[:,1:8]\n",
    "y_pred = gnb.predict(VT_features)\n",
    "#     print(y_pred)\n",
    "\n",
    "VT_label =  VT.iloc[:,8]\n",
    "accuracy = metrics.accuracy_score(VT_label, y_pred)\n",
    "# Model Accuracy, how often is the classifier correct?\n",
    "print(\"Accuracy for training set \"+ file_number[i]+ \": \" ,accuracy)\n",
    "print(\"Error : \",1- accuracy)"
   ]
  },
  {
   "cell_type": "code",
   "execution_count": 95,
   "metadata": {},
   "outputs": [
    {
     "name": "stdout",
     "output_type": "stream",
     "text": [
      "Accuracy for training set 06:  0.7894736842105263\n",
      "Error :  0.21052631578947367\n"
     ]
    }
   ],
   "source": [
    "#Create a Gaussian Classifier\n",
    "gnb = GaussianNB()\n",
    "\n",
    "#Import scikit-learn metrics module for accuracy calculation\n",
    "from sklearn import metrics\n",
    "file_number = ['01','02','03','04','05','06','07','08','09','10']\n",
    "# loop here to calculate the error for each training set\n",
    "for i in range(6):\n",
    "#     print(file_number[i])\n",
    "    trainingSet = '/media/anuja/study/Anuja/MS/CS_697A(ML)/hw1/diabetes_10fold_train_val/XT'+file_number[i]+'.csv'\n",
    "    XT = read_csv(trainingSet, sep=\",\")\n",
    "    \n",
    "    # all features in x train\n",
    "    X_train =  XT.iloc[:,1:8]\n",
    "#     print(\"Features\")\n",
    "#     print(X_train)\n",
    "    # outcome or label in Y train\n",
    "    Y_train = XT.iloc[:,8]\n",
    "#     print(\"Label\")\n",
    "#     print(Y_train)\n",
    "\n",
    "    #Train the model using the training sets\n",
    "    gnb.fit(X_train, Y_train)\n",
    "\n",
    "validationSet = '/media/anuja/study/Anuja/MS/CS_697A(ML)/hw1/diabetes_10fold_train_val/XV01.csv'\n",
    "VT = read_csv(validationSet, sep=\",\")\n",
    "#Predict the response for test dataset\n",
    "VT_features =  VT.iloc[:,1:8]\n",
    "y_pred = gnb.predict(VT_features)\n",
    "#     print(y_pred)\n",
    "\n",
    "VT_label =  VT.iloc[:,8]\n",
    "accuracy = metrics.accuracy_score(VT_label, y_pred)\n",
    "# Model Accuracy, how often is the classifier correct?\n",
    "print(\"Accuracy for training set \"+ file_number[i]+ \": \" ,accuracy)\n",
    "print(\"Error : \",1- accuracy)"
   ]
  },
  {
   "cell_type": "code",
   "execution_count": 88,
   "metadata": {},
   "outputs": [
    {
     "name": "stdout",
     "output_type": "stream",
     "text": [
      "Accuracy for training set 07:  0.7763157894736842\n",
      "Error :  0.22368421052631582\n"
     ]
    }
   ],
   "source": [
    "file_number = ['01','02','03','04','05','06','07','08','09','10']\n",
    "# loop here to calculate the error for each training set\n",
    "for i in range(7):\n",
    "#     print(file_number[i])\n",
    "    trainingSet = '/media/anuja/study/Anuja/MS/CS_697A(ML)/hw1/diabetes_10fold_train_val/XT'+file_number[i]+'.csv'\n",
    "    XT = read_csv(trainingSet, sep=\",\")\n",
    "    \n",
    "    # all features in x train\n",
    "    X_train =  XT.iloc[:,1:8]\n",
    "#     print(\"Features\")\n",
    "#     print(X_train)\n",
    "    # outcome or label in Y train\n",
    "    Y_train = XT.iloc[:,8]\n",
    "#     print(\"Label\")\n",
    "#     print(Y_train)\n",
    "\n",
    "    #Train the model using the training sets\n",
    "    gnb.fit(X_train, Y_train)\n",
    "\n",
    "validationSet = '/media/anuja/study/Anuja/MS/CS_697A(ML)/hw1/diabetes_10fold_train_val/XV01.csv'\n",
    "VT = read_csv(validationSet, sep=\",\")\n",
    "#Predict the response for test dataset\n",
    "VT_features =  VT.iloc[:,1:8]\n",
    "y_pred = gnb.predict(VT_features)\n",
    "#     print(y_pred)\n",
    "\n",
    "VT_label =  VT.iloc[:,8]\n",
    "accuracy = metrics.accuracy_score(VT_label, y_pred)\n",
    "# Model Accuracy, how often is the classifier correct?\n",
    "print(\"Accuracy for training set \"+ file_number[i]+ \": \" ,accuracy)\n",
    "print(\"Error : \",1- accuracy)"
   ]
  },
  {
   "cell_type": "code",
   "execution_count": 96,
   "metadata": {},
   "outputs": [
    {
     "name": "stdout",
     "output_type": "stream",
     "text": [
      "Accuracy for training set 08:  0.7894736842105263\n",
      "Error :  0.21052631578947367\n"
     ]
    }
   ],
   "source": [
    "#Create a Gaussian Classifier\n",
    "gnb = GaussianNB()\n",
    "\n",
    "#Import scikit-learn metrics module for accuracy calculation\n",
    "from sklearn import metrics\n",
    "file_number = ['01','02','03','04','05','06','07','08','09','10']\n",
    "# loop here to calculate the error for each training set\n",
    "for i in range(8):\n",
    "#     print(file_number[i])\n",
    "    trainingSet = '/media/anuja/study/Anuja/MS/CS_697A(ML)/hw1/diabetes_10fold_train_val/XT'+file_number[i]+'.csv'\n",
    "    XT = read_csv(trainingSet, sep=\",\")\n",
    "    \n",
    "    # all features in x train\n",
    "    X_train =  XT.iloc[:,1:8]\n",
    "#     print(\"Features\")\n",
    "#     print(X_train)\n",
    "    # outcome or label in Y train\n",
    "    Y_train = XT.iloc[:,8]\n",
    "#     print(\"Label\")\n",
    "#     print(Y_train)\n",
    "\n",
    "    #Train the model using the training sets\n",
    "    gnb.fit(X_train, Y_train)\n",
    "\n",
    "validationSet = '/media/anuja/study/Anuja/MS/CS_697A(ML)/hw1/diabetes_10fold_train_val/XV01.csv'\n",
    "VT = read_csv(validationSet, sep=\",\")\n",
    "#Predict the response for test dataset\n",
    "VT_features =  VT.iloc[:,1:8]\n",
    "y_pred = gnb.predict(VT_features)\n",
    "#     print(y_pred)\n",
    "\n",
    "VT_label =  VT.iloc[:,8]\n",
    "accuracy = metrics.accuracy_score(VT_label, y_pred)\n",
    "# Model Accuracy, how often is the classifier correct?\n",
    "print(\"Accuracy for training set \"+ file_number[i]+ \": \" ,accuracy)\n",
    "print(\"Error : \",1- accuracy)"
   ]
  },
  {
   "cell_type": "code",
   "execution_count": 90,
   "metadata": {},
   "outputs": [
    {
     "name": "stdout",
     "output_type": "stream",
     "text": [
      "Accuracy for training set 09:  0.8026315789473685\n",
      "Error :  0.19736842105263153\n"
     ]
    }
   ],
   "source": [
    "file_number = ['01','02','03','04','05','06','07','08','09','10']\n",
    "# loop here to calculate the error for each training set\n",
    "for i in range(9):\n",
    "#     print(file_number[i])\n",
    "    trainingSet = '/media/anuja/study/Anuja/MS/CS_697A(ML)/hw1/diabetes_10fold_train_val/XT'+file_number[i]+'.csv'\n",
    "    XT = read_csv(trainingSet, sep=\",\")\n",
    "    \n",
    "    # all features in x train\n",
    "    X_train =  XT.iloc[:,1:8]\n",
    "#     print(\"Features\")\n",
    "#     print(X_train)\n",
    "    # outcome or label in Y train\n",
    "    Y_train = XT.iloc[:,8]\n",
    "#     print(\"Label\")\n",
    "#     print(Y_train)\n",
    "\n",
    "    #Train the model using the training sets\n",
    "    gnb.fit(X_train, Y_train)\n",
    "\n",
    "validationSet = '/media/anuja/study/Anuja/MS/CS_697A(ML)/hw1/diabetes_10fold_train_val/XV01.csv'\n",
    "VT = read_csv(validationSet, sep=\",\")\n",
    "#Predict the response for test dataset\n",
    "VT_features =  VT.iloc[:,1:8]\n",
    "y_pred = gnb.predict(VT_features)\n",
    "#     print(y_pred)\n",
    "\n",
    "VT_label =  VT.iloc[:,8]\n",
    "accuracy = metrics.accuracy_score(VT_label, y_pred)\n",
    "# Model Accuracy, how often is the classifier correct?\n",
    "print(\"Accuracy for training set \"+ file_number[i]+ \": \" ,accuracy)\n",
    "print(\"Error : \",1- accuracy)"
   ]
  },
  {
   "cell_type": "code",
   "execution_count": 97,
   "metadata": {},
   "outputs": [
    {
     "name": "stdout",
     "output_type": "stream",
     "text": [
      "Accuracy for training set 10:  0.7894736842105263\n",
      "Error :  0.21052631578947367\n"
     ]
    }
   ],
   "source": [
    "#Create a Gaussian Classifier\n",
    "gnb = GaussianNB()\n",
    "\n",
    "#Import scikit-learn metrics module for accuracy calculation\n",
    "from sklearn import metrics\n",
    "file_number = ['01','02','03','04','05','06','07','08','09','10']\n",
    "# loop here to calculate the error for each training set\n",
    "for i in range(10):\n",
    "#     print(file_number[i])\n",
    "    trainingSet = '/media/anuja/study/Anuja/MS/CS_697A(ML)/hw1/diabetes_10fold_train_val/XT'+file_number[i]+'.csv'\n",
    "    XT = read_csv(trainingSet, sep=\",\")\n",
    "    \n",
    "    # all features in x train\n",
    "    X_train =  XT.iloc[:,1:8]\n",
    "#     print(\"Features\")\n",
    "#     print(X_train)\n",
    "    # outcome or label in Y train\n",
    "    Y_train = XT.iloc[:,8]\n",
    "#     print(\"Label\")\n",
    "#     print(Y_train)\n",
    "\n",
    "    #Train the model using the training sets\n",
    "    gnb.fit(X_train, Y_train)\n",
    "\n",
    "validationSet = '/media/anuja/study/Anuja/MS/CS_697A(ML)/hw1/diabetes_10fold_train_val/XV01.csv'\n",
    "VT = read_csv(validationSet, sep=\",\")\n",
    "#Predict the response for test dataset\n",
    "VT_features =  VT.iloc[:,1:8]\n",
    "y_pred = gnb.predict(VT_features)\n",
    "#     print(y_pred)\n",
    "\n",
    "VT_label =  VT.iloc[:,8]\n",
    "accuracy = metrics.accuracy_score(VT_label, y_pred)\n",
    "# Model Accuracy, how often is the classifier correct?\n",
    "print(\"Accuracy for training set \"+ file_number[i]+ \": \" ,accuracy)\n",
    "print(\"Error : \",1- accuracy)"
   ]
  },
  {
   "cell_type": "markdown",
   "metadata": {},
   "source": [
    "4.is the error of naive bayes <0.2 with confidence 0.9"
   ]
  },
  {
   "cell_type": "markdown",
   "metadata": {},
   "source": [
    "5.have  naive bayes and knn the same error?"
   ]
  },
  {
   "cell_type": "code",
   "execution_count": null,
   "metadata": {},
   "outputs": [],
   "source": []
  },
  {
   "cell_type": "markdown",
   "metadata": {},
   "source": [
    "6.do the three classifiers have different errors?"
   ]
  },
  {
   "cell_type": "code",
   "execution_count": null,
   "metadata": {},
   "outputs": [],
   "source": []
  }
 ],
 "metadata": {
  "kernelspec": {
   "display_name": "Python 3",
   "language": "python",
   "name": "python3"
  },
  "language_info": {
   "codemirror_mode": {
    "name": "ipython",
    "version": 3
   },
   "file_extension": ".py",
   "mimetype": "text/x-python",
   "name": "python",
   "nbconvert_exporter": "python",
   "pygments_lexer": "ipython3",
   "version": "3.7.6"
  }
 },
 "nbformat": 4,
 "nbformat_minor": 2
}
