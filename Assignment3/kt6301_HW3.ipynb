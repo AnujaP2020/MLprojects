{
 "cells": [
  {
   "cell_type": "markdown",
   "id": "5d9fffdf",
   "metadata": {},
   "source": [
    "1.Import relevant commands for numpy, pandas, sklearn."
   ]
  },
  {
   "cell_type": "code",
   "execution_count": 78,
   "id": "63571f49",
   "metadata": {},
   "outputs": [],
   "source": [
    "import numpy as np\n",
    "import pandas as pd\n",
    "from pandas import DataFrame, read_csv, to_numeric\n",
    "from sklearn.neural_network import MLPClassifier\n",
    "from sklearn.model_selection import train_test_split\n",
    "from sklearn.tree import DecisionTreeClassifier\n",
    "\n",
    "\n",
    "import math"
   ]
  },
  {
   "cell_type": "markdown",
   "id": "0c7bbbc2",
   "metadata": {},
   "source": [
    "Q1: Create the following training datasets from the optdigits.tra set: \n",
    "X25: Randomly chosen N=25 instances from each class. \n",
    "X100:  Randomly chosen N=100 instances from each class\n"
   ]
  },
  {
   "cell_type": "code",
   "execution_count": 79,
   "id": "02b20a21",
   "metadata": {},
   "outputs": [
    {
     "name": "stdout",
     "output_type": "stream",
     "text": [
      "      0   1   2   3   4   5   6   7   8   9   ...  55  56  57  58  59  60  61  \\\n",
      "3716   0   0   0   6  11   1   0   0   0   0  ...   0   0   0   0   4   9  14   \n",
      "2338   0   0   8  14  13   3   0   0   0   6  ...   0   0   0   9  16  13  12   \n",
      "1473   0   0   0   9  12   0   0   0   0   0  ...   0   0   0   0   9  15  10   \n",
      "3560   0   0   0  12  11   0   0   0   0   0  ...   2   0   0   0  11  16  16   \n",
      "1207   0   0   2  11  15   8   0   0   0   0  ...   0   0   0   2  10  14  16   \n",
      "...   ..  ..  ..  ..  ..  ..  ..  ..  ..  ..  ...  ..  ..  ..  ..  ..  ..  ..   \n",
      "3247   0   0   4  13  13   2   0   0   0   2  ...   0   0   0   3  13  16  16   \n",
      "3124   0   0   4  16  13   0   0   0   0   0  ...   0   0   0   2  16  16  13   \n",
      "2101   0   0   6  15  15   4   0   0   0   4  ...   0   0   0   5  15   6   0   \n",
      "581    0   0  11  15   7   0   0   0   0   2  ...   0   0   1  10  12  14  10   \n",
      "209    0   0   0   3  11  16  11   0   0   0  ...   0   0   0   0   2  16   5   \n",
      "\n",
      "      62  63  64  \n",
      "3716  13   0   6  \n",
      "2338   1   0   3  \n",
      "1473   0   0   6  \n",
      "3560  15   1   6  \n",
      "1207   7   0   5  \n",
      "...   ..  ..  ..  \n",
      "3247   8   0   9  \n",
      "3124   1   0   9  \n",
      "2101   0   0   9  \n",
      "581    1   0   9  \n",
      "209    0   0   9  \n",
      "\n",
      "[250 rows x 65 columns]\n",
      "      0   1   2   3   4   5   6   7   8   9   ...  55  56  57  58  59  60  61  \\\n",
      "456    0   0   0   2  16  15   3   0   0   0  ...   0   0   0   0   0  13  16   \n",
      "78     0   0  10  12  10   0   0   0   0   3  ...   0   0   0   7  12  13  12   \n",
      "1333   0   0   9  16  16  16   7   0   0   3  ...   0   0   0  10  16  16   4   \n",
      "1522   0   0   0   1  10  16   8   0   0   1  ...   0   0   0   0   0  10  16   \n",
      "989    0   0   0   6  14   3   0   0   0   0  ...   2   0   0   0   4  14  16   \n",
      "...   ..  ..  ..  ..  ..  ..  ..  ..  ..  ..  ...  ..  ..  ..  ..  ..  ..  ..   \n",
      "3067   0   0   4  15  12   3   0   0   0   3  ...   0   0   0   6  15   5   0   \n",
      "1851   0   0   0   7  16  11   0   0   0   0  ...   0   0   0   0   8  16   1   \n",
      "2616   0   0   0  10  13   5   0   0   0   0  ...   0   0   0   0  11   5   0   \n",
      "2604   0   0   0   8  16  13   1   0   0   0  ...   0   0   0   0  11  10   0   \n",
      "1983   0   0   1   9  16  13   1   0   0   0  ...   0   0   0   1  15   3   0   \n",
      "\n",
      "      62  63  64  \n",
      "456    7   0   1  \n",
      "78     4   0   0  \n",
      "1333   0   0   5  \n",
      "1522   7   0   1  \n",
      "989   13   0   6  \n",
      "...   ..  ..  ..  \n",
      "3067   0   0   9  \n",
      "1851   0   0   9  \n",
      "2616   0   0   9  \n",
      "2604   0   0   9  \n",
      "1983   0   0   9  \n",
      "\n",
      "[1000 rows x 65 columns]\n"
     ]
    }
   ],
   "source": [
    "#Read Training Data\n",
    "train_data = read_csv(r'C:\\Users\\gangareddy\\Documents\\GitHub\\MLprojects\\Assignment3\\optdigits.tra', sep=\",\",header=None)\n",
    "test_data= read_csv(r'C:\\Users\\gangareddy\\Documents\\GitHub\\MLprojects\\Assignment3\\optdigits.tes', sep=\",\",header=None)\n",
    "#print(train_data.head())\n",
    "train_data\n",
    "test_data\n",
    "\n",
    "Xtrain_25 = train_data.sample(25)\n",
    "Xtrain_100 = test_data.sample(100)\n",
    "#print(Xtrain_25)\n",
    "#print(Xtrain_100)\n",
    "\n",
    "classes =10\n",
    "for i in range(1,classes,1):\n",
    "    Xtrain_25 = Xtrain_25.append(train_data[train_data[64] == i].sample(25))\n",
    "    Xtrain_100 = Xtrain_100.append(train_data[train_data[64] == i].sample(100))\n",
    "\n",
    "print(Xtrain_25)\n",
    "print(Xtrain_100)\n",
    "\n",
    "ytrain_25 = Xtrain_25[64]\n",
    "ytrain_100 = Xtrain_100[64]\n",
    "\n",
    "\n",
    "\n"
   ]
  },
  {
   "cell_type": "markdown",
   "id": "ad276b38",
   "metadata": {},
   "source": [
    "Q2: Decision Trees, classification: \n",
    "Use library sklearn.tree.DecisionTreeClassifier\n",
    " algorithm. For the DecisionTreeClassifier determine the value of the tree depth parameter (experiment with depth=2, 3, 5, 10)  that results in the best test error. Report the training and test errors for each depth value and the training set. How does the best depth value change as the number of instances change? \n",
    "Note: Check the depth of the your trained decision tree, by e.g. plotting the tree.\n"
   ]
  },
  {
   "cell_type": "code",
   "execution_count": 80,
   "id": "79dcbb39",
   "metadata": {},
   "outputs": [
    {
     "name": "stdout",
     "output_type": "stream",
     "text": [
      "Results with 25 instances\n",
      "   Training Error  Test Error\n",
      "0           0.528    0.596550\n",
      "1           0.312    0.398442\n",
      "2           0.000    0.002782\n",
      "3           0.000    0.000000\n",
      "Results with 100 instances\n",
      "   Training Error  Test Error\n",
      "0           0.548    0.599332\n",
      "1           0.329    0.399555\n",
      "2           0.000    0.000000\n",
      "3           0.000    0.000000\n"
     ]
    }
   ],
   "source": [
    "Xtest = test_data\n",
    "ytest = test_data[64]\n",
    "TrainingError_25 = []\n",
    "TestingError_25=[]\n",
    "\n",
    "TrainingError_100 = []\n",
    "TestingError_100=[]\n",
    "\n",
    "#storing the max_depth parameters in a list\n",
    "mdepth=[2,3,5,10]\n",
    "#train with 25 instances from each class\n",
    "\n",
    "\n",
    "for i in mdepth:\n",
    "        model = DecisionTreeClassifier(max_depth=i)\n",
    "        model.fit(Xtrain_25,ytrain_25)\n",
    "        a1=model.score(Xtrain_25,ytrain_25)\n",
    "        a2=model.score(Xtest,ytest)\n",
    "        TrainingError_25.append(1-a1)\n",
    "        TestingError_25.append(1-a2)\n",
    "\n",
    "#train with 100 instances from each class\n",
    "\n",
    "for i in mdepth:\n",
    "        model = DecisionTreeClassifier(max_depth=i)\n",
    "        model.fit(Xtrain_100,ytrain_100)\n",
    "        a1=model.score(Xtrain_100,ytrain_100)\n",
    "        a2=model.score(Xtest,ytest)\n",
    "        TrainingError_100.append(1-a1)\n",
    "        TestingError_100.append(1-a2)\n",
    "\n",
    "columns = ['Training Error','Test Error']\n",
    "\n",
    "Error_list_25=[]\n",
    "Error_list_100=[]\n",
    "for i in range(len(TrainingError_25)):\n",
    "    Error_list_25.append([TrainingError_25[i],TestingError_25[i]])\n",
    "    Error_list_100.append([TrainingError_100[i],TestingError_100[i]] )\n",
    "    \n",
    "print(\"Results with 25 instances\")   \n",
    "df_train_error_25 = pd.DataFrame(Error_list_25,columns=columns)\n",
    "print(df_train_error_25.head(20)) \n",
    "\n",
    "print(\"Results with 100 instances\")   \n",
    "df_train_error_100 = pd.DataFrame(Error_list_100,columns=columns)\n",
    "print(df_train_error_100.head(20))\n",
    "\n"
   ]
  },
  {
   "cell_type": "code",
   "execution_count": null,
   "id": "2c1a535f",
   "metadata": {},
   "outputs": [],
   "source": []
  },
  {
   "cell_type": "code",
   "execution_count": null,
   "id": "5b5e3022",
   "metadata": {},
   "outputs": [],
   "source": []
  }
 ],
 "metadata": {
  "kernelspec": {
   "display_name": "Python 3",
   "language": "python",
   "name": "python3"
  },
  "language_info": {
   "codemirror_mode": {
    "name": "ipython",
    "version": 3
   },
   "file_extension": ".py",
   "mimetype": "text/x-python",
   "name": "python",
   "nbconvert_exporter": "python",
   "pygments_lexer": "ipython3",
   "version": "3.8.2"
  }
 },
 "nbformat": 4,
 "nbformat_minor": 5
}
