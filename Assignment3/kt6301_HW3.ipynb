{
 "cells": [
  {
   "cell_type": "markdown",
   "id": "025c1061",
   "metadata": {},
   "source": [
    "1.Import relevant commands for numpy, pandas, sklearn."
   ]
  },
  {
   "cell_type": "code",
   "execution_count": 102,
   "id": "eab4009e",
   "metadata": {},
   "outputs": [],
   "source": [
    "import numpy as np\n",
    "import pandas as pd\n",
    "from pandas import DataFrame, read_csv, to_numeric\n",
    "from sklearn.neural_network import MLPClassifier\n",
    "from sklearn.model_selection import train_test_split\n",
    "from sklearn.tree import DecisionTreeClassifier\n",
    "import matplotlib.pyplot as plt\n",
    "from xgboost import XGBClassifier\n",
    "from sklearn.metrics import accuracy_score\n",
    "\n",
    "\n",
    "\n",
    "import math"
   ]
  },
  {
   "cell_type": "markdown",
   "id": "006d5f11",
   "metadata": {},
   "source": [
    "Q1: Create the following training datasets from the optdigits.tra set: \n",
    "X25: Randomly chosen N=25 instances from each class. \n",
    "X100:  Randomly chosen N=100 instances from each class\n"
   ]
  },
  {
   "cell_type": "code",
   "execution_count": 103,
   "id": "217d21c9",
   "metadata": {},
   "outputs": [
    {
     "name": "stdout",
     "output_type": "stream",
     "text": [
      "      0   1   2   3   4   5   6   7   8   9   ...  55  56  57  58  59  60  61  \\\n",
      "1216   0   0   0   1  16   5   0   0   0   0  ...   0   0   0   0   1  16   9   \n",
      "1925   0   0  15  15   4   0   0   0   0   0  ...   0   0   1  11  15  12  15   \n",
      "3270   0   0   1  14   2   0   0   0   0   0  ...   0   0   0   0  13  16  16   \n",
      "1920   0   0   1  14  15   3   0   0   0   0  ...   0   0   0   2  12  16   5   \n",
      "696    0   0   9  15  16   8   0   0   0   0  ...   0   0   0  10  12   0   0   \n",
      "...   ..  ..  ..  ..  ..  ..  ..  ..  ..  ..  ...  ..  ..  ..  ..  ..  ..  ..   \n",
      "2395   0   0   0   5   9  13  14   6   0   0  ...   0   0   0   0   5  14   0   \n",
      "2005   0   0   4  12  12   0   0   0   0   2  ...   0   0   0   5  14  16  11   \n",
      "2750   0   0   2  11  13  11   3   0   0   0  ...   0   0   0   1  14   0   0   \n",
      "3216   0   0  11  12   7   0   0   0   0   3  ...   0   0   0  10  16  13   8   \n",
      "1714   0   0   9  16  11   0   0   0   0   5  ...   0   0   0   5  12  12   6   \n",
      "\n",
      "      62  63  64  \n",
      "1216   0   0   4  \n",
      "1925  15   4   2  \n",
      "3270   9   0   6  \n",
      "1920   0   0   1  \n",
      "696    0   0   7  \n",
      "...   ..  ..  ..  \n",
      "2395   0   0   9  \n",
      "2005   2   0   9  \n",
      "2750   0   0   9  \n",
      "3216   1   0   9  \n",
      "1714   0   0   9  \n",
      "\n",
      "[250 rows x 65 columns]\n",
      "      0   1   2   3   4   5   6   7   8   9   ...  55  56  57  58  59  60  61  \\\n",
      "1348   0   0  12  16  16   5   0   0   0   3  ...   0   0   0  13  10   0   0   \n",
      "1754   0   0   0   0  13   8   0   0   0   0  ...   0   0   0   0   0  15   7   \n",
      "747    0   0   2  10  15   1   0   0   0   3  ...   0   0   0   0  10  16   6   \n",
      "360    0   0   1  13   7   0   0   0   0   0  ...   0   0   0   1  12  16  11   \n",
      "1631   0   0   0  12   7   0   0   0   0   0  ...   0   0   0   0   6  16   2   \n",
      "...   ..  ..  ..  ..  ..  ..  ..  ..  ..  ..  ...  ..  ..  ..  ..  ..  ..  ..   \n",
      "3729   0   0   4  11  12   7   0   0   0   1  ...   0   0   0   1  13  12   5   \n",
      "3542   0   0  11  16  12   5   0   0   0   4  ...   0   0   0  12  11   0   0   \n",
      "1497   0   0   4  12  15   6   0   0   0   4  ...   0   0   0   8  16  15  10   \n",
      "3099   0   0  10  15   9   1   0   0   0   5  ...   0   0   0  10  12  12  15   \n",
      "1504   0   0   3  13  13   4   0   0   0   1  ...   0   0   0   2  12  16  11   \n",
      "\n",
      "      62  63  64  \n",
      "1348   0   0   7  \n",
      "1754   0   0   4  \n",
      "747    0   0   0  \n",
      "360    2   0   6  \n",
      "1631   0   0   1  \n",
      "...   ..  ..  ..  \n",
      "3729   0   0   9  \n",
      "3542   0   0   9  \n",
      "1497   2   0   9  \n",
      "3099  11   0   9  \n",
      "1504   1   0   9  \n",
      "\n",
      "[1000 rows x 65 columns]\n"
     ]
    }
   ],
   "source": [
    "#Read Training Data\n",
    "train_data = read_csv(r'C:\\Users\\gangareddy\\Documents\\GitHub\\MLprojects\\Assignment3\\optdigits.tra', sep=\",\",header=None)\n",
    "test_data= read_csv(r'C:\\Users\\gangareddy\\Documents\\GitHub\\MLprojects\\Assignment3\\optdigits.tes', sep=\",\",header=None)\n",
    "#print(train_data.head())\n",
    "train_data\n",
    "test_data\n",
    "\n",
    "Xtrain_25 = train_data.sample(25)\n",
    "Xtrain_100 = test_data.sample(100)\n",
    "#print(Xtrain_25)\n",
    "#print(Xtrain_100)\n",
    "\n",
    "classes =10\n",
    "for i in range(1,classes,1):\n",
    "    Xtrain_25 = Xtrain_25.append(train_data[train_data[64] == i].sample(25))\n",
    "    Xtrain_100 = Xtrain_100.append(train_data[train_data[64] == i].sample(100))\n",
    "\n",
    "print(Xtrain_25)\n",
    "print(Xtrain_100)\n",
    "\n",
    "ytrain_25 = Xtrain_25[64]\n",
    "ytrain_100 = Xtrain_100[64]\n",
    "\n",
    "\n",
    "\n"
   ]
  },
  {
   "cell_type": "markdown",
   "id": "68c4d25d",
   "metadata": {},
   "source": [
    "Q2: Decision Trees, classification: \n",
    "Use library sklearn.tree.DecisionTreeClassifier\n",
    " algorithm. For the DecisionTreeClassifier determine the value of the tree depth parameter (experiment with depth=2, 3, 5, 10)  that results in the best test error. Report the training and test errors for each depth value and the training set. How does the best depth value change as the number of instances change? \n",
    "Note: Check the depth of the your trained decision tree, by e.g. plotting the tree.\n"
   ]
  },
  {
   "cell_type": "code",
   "execution_count": 104,
   "id": "8a25b964",
   "metadata": {},
   "outputs": [
    {
     "name": "stdout",
     "output_type": "stream",
     "text": [
      "Results with 25 instances\n",
      "                Training Error  Test Error\n",
      "Max_Depth = 2            0.652    0.632721\n",
      "Max_Depth = 3            0.536    0.565387\n",
      "Max_Depth = 5            0.104    0.136338\n",
      "Max_Depth = 10           0.000    0.041736\n",
      "\n",
      "Results with 100 instances\n",
      "                Training Error  Test Error\n",
      "Max_Depth = 2            0.660    0.697830\n",
      "Max_Depth = 3            0.437    0.499165\n",
      "Max_Depth = 5            0.000    0.000000\n",
      "Max_Depth = 10           0.000    0.002782\n"
     ]
    }
   ],
   "source": [
    "Xtest = test_data\n",
    "ytest = test_data[64]\n",
    "TrainingError_25 = []\n",
    "TestingError_25=[]\n",
    "\n",
    "TrainingError_100 = []\n",
    "TestingError_100=[]\n",
    "index=[]\n",
    "\n",
    "#storing the max_depth parameters in a list\n",
    "mdepth=[2,3,5,10]\n",
    "#train with 25 instances from each class\n",
    "\n",
    "\n",
    "for i in mdepth:\n",
    "        model = DecisionTreeClassifier(max_depth=i)\n",
    "        model.fit(Xtrain_25,ytrain_25)\n",
    "        a1=model.score(Xtrain_25,ytrain_25)\n",
    "        a2=model.score(Xtest,ytest)\n",
    "        TrainingError_25.append(1-a1)\n",
    "        TestingError_25.append(1-a2)\n",
    "\n",
    "#train with 100 instances from each class\n",
    "\n",
    "for i in mdepth:\n",
    "        model = DecisionTreeClassifier(max_depth=i)\n",
    "        model.fit(Xtrain_100,ytrain_100)\n",
    "        y_pred = model.predict(Xtrain_100)\n",
    "        y_pred1= model.predict(Xtest)\n",
    "        x1=accuracy_score(ytrain_100,y_pred)\n",
    "        x2=accuracy_score(ytest,y_pred1)\n",
    "        TrainingError_100.append(1-x1)\n",
    "        TestingError_100.append(1-x2)\n",
    "        temp = 'Max_Depth = '+str(i)\n",
    "        index.append(temp)\n",
    "\n",
    "columns = ['Training Error','Test Error']\n",
    "\n",
    "Error_list_25=[]\n",
    "Error_list_100=[]\n",
    "for i in range(len(TrainingError_25)):\n",
    "    Error_list_25.append([TrainingError_25[i],TestingError_25[i]])\n",
    "    Error_list_100.append([TrainingError_100[i],TestingError_100[i]] )\n",
    "    \n",
    "print(\"Results with 25 instances\")   \n",
    "df_train_error_25 = pd.DataFrame(Error_list_25,columns=columns,index=index)\n",
    "print(df_train_error_25.head(20)) \n",
    "\n",
    "print()\n",
    "print(\"Results with 100 instances\")   \n",
    "df_train_error_100 = pd.DataFrame(Error_list_100,columns=columns,index=index)\n",
    "print(df_train_error_100.head(20))\n",
    "\n"
   ]
  },
  {
   "cell_type": "code",
   "execution_count": 105,
   "id": "d2737364",
   "metadata": {},
   "outputs": [
    {
     "data": {
      "image/png": "[encoded data removed]",
      "text/plain": [
       "<Figure size 432x288 with 1 Axes>"
      ]
     },
     "metadata": {
      "needs_background": "light"
     },
     "output_type": "display_data"
    }
   ],
   "source": [
    "plt.plot(mdepth,TestingError_25,label='Testing error for 25 instances')\n",
    "plt.plot(mdepth,TestingError_100,label='Testing error for 100 instances')\n",
    "plt.legend()\n",
    "plt.xlabel(' Max Depth')\n",
    "plt.ylabel(' Error Rate')\n",
    "\n",
    "plt.show()"
   ]
  },
  {
   "cell_type": "markdown",
   "id": "d8af32ac",
   "metadata": {},
   "source": [
    "Q2:Repeat Q1 using XGBoost and LightGBM algorithms. Experiment with at least 5 different parameter settings to see their effect on training and test errors. How do best parameters change as the #training instances change? "
   ]
  },
  {
   "cell_type": "code",
   "execution_count": 106,
   "id": "86e0732e",
   "metadata": {},
   "outputs": [
    {
     "name": "stderr",
     "output_type": "stream",
     "text": [
      "C:\\Users\\gangareddy\\AppData\\Roaming\\Python\\Python38\\site-packages\\xgboost\\sklearn.py:1146: UserWarning: The use of label encoder in XGBClassifier is deprecated and will be removed in a future release. To remove this warning, do the following: 1) Pass option use_label_encoder=False when constructing XGBClassifier object; and 2) Encode your labels (y) as integers starting with 0, i.e. 0, 1, 2, ..., [num_class - 1].\n",
      "  warnings.warn(label_encoder_deprecation_msg, UserWarning)\n"
     ]
    },
    {
     "name": "stdout",
     "output_type": "stream",
     "text": [
      "[16:21:26] WARNING: C:/Users/Administrator/workspace/xgboost-win64_release_1.4.0/src/learner.cc:1095: Starting in XGBoost 1.3.0, the default evaluation metric used with the objective 'multi:softprob' was changed from 'merror' to 'mlogloss'. Explicitly set eval_metric if you'd like to restore the old behavior.\n"
     ]
    },
    {
     "data": {
      "text/plain": [
       "XGBClassifier(base_score=0.5, booster='gbtree', colsample_bylevel=1,\n",
       "              colsample_bynode=1, colsample_bytree=1, gamma=0, gpu_id=-1,\n",
       "              importance_type='gain', interaction_constraints='',\n",
       "              learning_rate=0.300000012, max_delta_step=0, max_depth=6,\n",
       "              min_child_weight=1, missing=nan, monotone_constraints='()',\n",
       "              n_estimators=100, n_jobs=4, num_parallel_tree=1,\n",
       "              objective='multi:softprob', random_state=0, reg_alpha=0,\n",
       "              reg_lambda=1, scale_pos_weight=None, subsample=1,\n",
       "              tree_method='exact', validate_parameters=1, verbosity=None)"
      ]
     },
     "execution_count": 106,
     "metadata": {},
     "output_type": "execute_result"
    }
   ],
   "source": [
    "model = XGBClassifier()\n",
    "model.fit(Xtrain_25,ytrain_25) \n",
    "\n"
   ]
  }
 ],
 "metadata": {
  "kernelspec": {
   "display_name": "Python 3",
   "language": "python",
   "name": "python3"
  },
  "language_info": {
   "codemirror_mode": {
    "name": "ipython",
    "version": 3
   },
   "file_extension": ".py",
   "mimetype": "text/x-python",
   "name": "python",
   "nbconvert_exporter": "python",
   "pygments_lexer": "ipython3",
   "version": "3.8.2"
  }
 },
 "nbformat": 4,
 "nbformat_minor": 5
}
