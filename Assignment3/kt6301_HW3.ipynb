{
 "cells": [
  {
   "cell_type": "markdown",
   "id": "84fa8386",
   "metadata": {},
   "source": [
    "1.Import relevant commands for numpy, pandas, sklearn."
   ]
  },
  {
   "cell_type": "code",
   "execution_count": 92,
   "id": "b0a38302",
   "metadata": {},
   "outputs": [],
   "source": [
    "import numpy as np\n",
    "import pandas as pd\n",
    "from pandas import DataFrame, read_csv, to_numeric\n",
    "from sklearn.neural_network import MLPClassifier\n",
    "from sklearn.model_selection import train_test_split\n",
    "from sklearn.tree import DecisionTreeClassifier\n",
    "import matplotlib.pyplot as plt\n",
    "\n",
    "\n",
    "import math"
   ]
  },
  {
   "cell_type": "markdown",
   "id": "9af3223e",
   "metadata": {},
   "source": [
    "Q1: Create the following training datasets from the optdigits.tra set: \n",
    "X25: Randomly chosen N=25 instances from each class. \n",
    "X100:  Randomly chosen N=100 instances from each class\n"
   ]
  },
  {
   "cell_type": "code",
   "execution_count": 88,
   "id": "908927ee",
   "metadata": {},
   "outputs": [
    {
     "name": "stdout",
     "output_type": "stream",
     "text": [
      "      0   1   2   3   4   5   6   7   8   9   ...  55  56  57  58  59  60  61  \\\n",
      "2062   0   0   3  11  14  16   4   0   0   9  ...   0   0   0   2  15  16  15   \n",
      "1546   0   0   2  15   8   0   0   0   0   0  ...   0   0   0   3  14  15   9   \n",
      "1691   0   0   0   2  14  10   0   0   0   0  ...   0   0   0   0   2  11  14   \n",
      "2153   0   0   4  14  16  15   1   0   0   0  ...   0   0   0   7  14   2   0   \n",
      "32     0   0   9  16  16  15   2   0   0   0  ...   0   0   0   8  13   1   0   \n",
      "...   ..  ..  ..  ..  ..  ..  ..  ..  ..  ..  ...  ..  ..  ..  ..  ..  ..  ..   \n",
      "3099   0   0  10  15   9   1   0   0   0   5  ...   0   0   0  10  12  12  15   \n",
      "2725   0   0   2   7  13  12   2   0   0   0  ...   0   0   0   0   9   8   0   \n",
      "2229   0   0   9  14   9   0   0   0   0   6  ...   0   0   0   6  10  14  16   \n",
      "305    0   0   0   6  10  14   6   0   0   0  ...   0   0   0   0   9  11   0   \n",
      "214    0   0   0   1   8  15  12   0   0   0  ...   0   0   0   0   0  11   1   \n",
      "\n",
      "      62  63  64  \n",
      "2062   0   0   5  \n",
      "1546   0   0   0  \n",
      "1691   0   0   1  \n",
      "2153   0   0   7  \n",
      "32     0   0   7  \n",
      "...   ..  ..  ..  \n",
      "3099  11   0   9  \n",
      "2725   0   0   9  \n",
      "2229   5   0   9  \n",
      "305    0   0   9  \n",
      "214    0   0   9  \n",
      "\n",
      "[250 rows x 65 columns]\n",
      "      0   1   2   3   4   5   6   7   8   9   ...  55  56  57  58  59  60  61  \\\n",
      "1392   0   0   6  12  15   9   1   0   0   5  ...   0   0   0   5  14  15   4   \n",
      "186    0   0   0   1  11  14   5   0   0   0  ...   0   0   0   0   0  11  10   \n",
      "992    0   0   2  15  16   9   0   0   0   0  ...   0   0   0   3  15  16  10   \n",
      "995    0   0   4  15  14  12  11   0   0   0  ...   0   0   0   5  15   2   0   \n",
      "1189   0   1   7  14  16  12   1   0   0   7  ...   0   0   0   6  16  15   3   \n",
      "...   ..  ..  ..  ..  ..  ..  ..  ..  ..  ..  ...  ..  ..  ..  ..  ..  ..  ..   \n",
      "2576   0   0   7  13  16  11   4   0   0   1  ...   0   0   0  12   6   0   0   \n",
      "652    0   0   3   9   8   0   0   0   0   2  ...   0   0   0   9  16  13   9   \n",
      "304    0   0   4  15  13   0   0   0   0   1  ...   0   0   0   3  15  14   7   \n",
      "3431   0   0   8  15  13   8   0   0   0   1  ...   0   0   0   7  14  12   3   \n",
      "1956   0   0   0   2  12  13   8   1   0   0  ...   0   0   0   0   0  14   1   \n",
      "\n",
      "      62  63  64  \n",
      "1392   0   0   9  \n",
      "186    0   0   1  \n",
      "992    0   0   3  \n",
      "995    0   0   7  \n",
      "1189   0   0   5  \n",
      "...   ..  ..  ..  \n",
      "2576   0   0   9  \n",
      "652    1   0   9  \n",
      "304    1   0   9  \n",
      "3431   0   0   9  \n",
      "1956   0   0   9  \n",
      "\n",
      "[1000 rows x 65 columns]\n"
     ]
    }
   ],
   "source": [
    "#Read Training Data\n",
    "train_data = read_csv(r'C:\\Users\\gangareddy\\Documents\\GitHub\\MLprojects\\Assignment3\\optdigits.tra', sep=\",\",header=None)\n",
    "test_data= read_csv(r'C:\\Users\\gangareddy\\Documents\\GitHub\\MLprojects\\Assignment3\\optdigits.tes', sep=\",\",header=None)\n",
    "#print(train_data.head())\n",
    "train_data\n",
    "test_data\n",
    "\n",
    "Xtrain_25 = train_data.sample(25)\n",
    "Xtrain_100 = test_data.sample(100)\n",
    "#print(Xtrain_25)\n",
    "#print(Xtrain_100)\n",
    "\n",
    "classes =10\n",
    "for i in range(1,classes,1):\n",
    "    Xtrain_25 = Xtrain_25.append(train_data[train_data[64] == i].sample(25))\n",
    "    Xtrain_100 = Xtrain_100.append(train_data[train_data[64] == i].sample(100))\n",
    "\n",
    "print(Xtrain_25)\n",
    "print(Xtrain_100)\n",
    "\n",
    "ytrain_25 = Xtrain_25[64]\n",
    "ytrain_100 = Xtrain_100[64]\n",
    "\n",
    "\n",
    "\n"
   ]
  },
  {
   "cell_type": "markdown",
   "id": "9dee04f4",
   "metadata": {},
   "source": [
    "Q2: Decision Trees, classification: \n",
    "Use library sklearn.tree.DecisionTreeClassifier\n",
    " algorithm. For the DecisionTreeClassifier determine the value of the tree depth parameter (experiment with depth=2, 3, 5, 10)  that results in the best test error. Report the training and test errors for each depth value and the training set. How does the best depth value change as the number of instances change? \n",
    "Note: Check the depth of the your trained decision tree, by e.g. plotting the tree.\n"
   ]
  },
  {
   "cell_type": "code",
   "execution_count": 89,
   "id": "e421143b",
   "metadata": {},
   "outputs": [
    {
     "name": "stdout",
     "output_type": "stream",
     "text": [
      "Results with 25 instances\n",
      "                Training Error  Test Error\n",
      "Max_Depth = 2            0.632    0.698943\n",
      "Max_Depth = 3            0.420    0.501391\n",
      "Max_Depth = 5            0.112    0.197551\n",
      "Max_Depth = 10           0.000    0.031163\n",
      "\n",
      "Results with 100 instances\n",
      "                Training Error  Test Error\n",
      "Max_Depth = 2            0.663    0.698386\n",
      "Max_Depth = 3            0.445    0.497496\n",
      "Max_Depth = 5            0.118    0.197551\n",
      "Max_Depth = 10           0.000    0.002782\n"
     ]
    }
   ],
   "source": [
    "Xtest = test_data\n",
    "ytest = test_data[64]\n",
    "TrainingError_25 = []\n",
    "TestingError_25=[]\n",
    "\n",
    "TrainingError_100 = []\n",
    "TestingError_100=[]\n",
    "index=[]\n",
    "\n",
    "#storing the max_depth parameters in a list\n",
    "mdepth=[2,3,5,10]\n",
    "#train with 25 instances from each class\n",
    "\n",
    "\n",
    "for i in mdepth:\n",
    "        model = DecisionTreeClassifier(max_depth=i)\n",
    "        model.fit(Xtrain_25,ytrain_25)\n",
    "        a1=model.score(Xtrain_25,ytrain_25)\n",
    "        a2=model.score(Xtest,ytest)\n",
    "        TrainingError_25.append(1-a1)\n",
    "        TestingError_25.append(1-a2)\n",
    "\n",
    "#train with 100 instances from each class\n",
    "\n",
    "for i in mdepth:\n",
    "        model = DecisionTreeClassifier(max_depth=i)\n",
    "        model.fit(Xtrain_100,ytrain_100)\n",
    "        a1=model.score(Xtrain_100,ytrain_100)\n",
    "        a2=model.score(Xtest,ytest)\n",
    "        TrainingError_100.append(1-a1)\n",
    "        TestingError_100.append(1-a2)\n",
    "        temp = 'Max_Depth = '+str(i)\n",
    "        index.append(temp)\n",
    "\n",
    "columns = ['Training Error','Test Error']\n",
    "\n",
    "Error_list_25=[]\n",
    "Error_list_100=[]\n",
    "for i in range(len(TrainingError_25)):\n",
    "    Error_list_25.append([TrainingError_25[i],TestingError_25[i]])\n",
    "    Error_list_100.append([TrainingError_100[i],TestingError_100[i]] )\n",
    "    \n",
    "print(\"Results with 25 instances\")   \n",
    "df_train_error_25 = pd.DataFrame(Error_list_25,columns=columns,index=index)\n",
    "print(df_train_error_25.head(20)) \n",
    "\n",
    "print()\n",
    "print(\"Results with 100 instances\")   \n",
    "df_train_error_100 = pd.DataFrame(Error_list_100,columns=columns,index=index)\n",
    "print(df_train_error_100.head(20))\n",
    "\n"
   ]
  },
  {
   "cell_type": "code",
   "execution_count": 96,
   "id": "308b8ec0",
   "metadata": {},
   "outputs": [
    {
     "data": {
      "image/png": "[encoded data removed]",
      "text/plain": [
       "<Figure size 432x288 with 1 Axes>"
      ]
     },
     "metadata": {
      "needs_background": "light"
     },
     "output_type": "display_data"
    }
   ],
   "source": [
    "plt.plot(mdepth,TestingError_25,label='Testing error for 25 instances')\n",
    "plt.plot(mdepth,TestingError_100,label='Testing error for 100 instances')\n",
    "plt.legend()\n",
    "plt.xlabel(' Max Depth')\n",
    "plt.ylabel(' Error Rate')\n",
    "\n",
    "plt.show()"
   ]
  },
  {
   "cell_type": "code",
   "execution_count": null,
   "id": "168b03c3",
   "metadata": {},
   "outputs": [],
   "source": []
  }
 ],
 "metadata": {
  "kernelspec": {
   "display_name": "Python 3",
   "language": "python",
   "name": "python3"
  },
  "language_info": {
   "codemirror_mode": {
    "name": "ipython",
    "version": 3
   },
   "file_extension": ".py",
   "mimetype": "text/x-python",
   "name": "python",
   "nbconvert_exporter": "python",
   "pygments_lexer": "ipython3",
   "version": "3.8.2"
  }
 },
 "nbformat": 4,
 "nbformat_minor": 5
}
