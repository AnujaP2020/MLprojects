{
 "cells": [
  {
   "cell_type": "markdown",
   "id": "025c1061",
   "metadata": {},
   "source": [
    "1.Import relevant commands for numpy, pandas, sklearn."
   ]
  },
  {
   "cell_type": "code",
   "execution_count": 117,
   "id": "eab4009e",
   "metadata": {},
   "outputs": [],
   "source": [
    "import numpy as np\n",
    "import pandas as pd\n",
    "from pandas import DataFrame, read_csv, to_numeric\n",
    "from sklearn.neural_network import MLPClassifier\n",
    "from sklearn.model_selection import train_test_split,RandomizedSearchCV,cross_val_score\n",
    "from sklearn.tree import DecisionTreeClassifier\n",
    "import matplotlib.pyplot as plt\n",
    "from xgboost import XGBClassifier\n",
    "from sklearn.metrics import accuracy_score\n",
    "\n",
    "from IPython.display import Image\n",
    "from sklearn.tree import export_graphviz\n",
    "import graphviz\n",
    "\n",
    "\n",
    "from lightgbm import LGBMClassifier\n",
    "\n",
    "\n",
    "\n",
    "import math"
   ]
  },
  {
   "cell_type": "markdown",
   "id": "006d5f11",
   "metadata": {},
   "source": [
    "Q1: Create the following training datasets from the optdigits.tra set: \n",
    "X25: Randomly chosen N=25 instances from each class. \n",
    "X100:  Randomly chosen N=100 instances from each class\n"
   ]
  },
  {
   "cell_type": "code",
   "execution_count": 118,
   "id": "217d21c9",
   "metadata": {},
   "outputs": [
    {
     "name": "stdout",
     "output_type": "stream",
     "text": [
      "(1797, 64)\n",
      "(1797,)\n",
      "<class 'pandas.core.frame.DataFrame'>\n",
      "<class 'pandas.core.series.Series'>\n"
     ]
    }
   ],
   "source": [
    "#Read Training Data\n",
    "train_data = read_csv(r'C:\\Users\\gangareddy\\Documents\\GitHub\\MLprojects\\Assignment3\\optdigits.tra', sep=\",\",header=None)\n",
    "test_data= read_csv(r'C:\\Users\\gangareddy\\Documents\\GitHub\\MLprojects\\Assignment3\\optdigits.tes', sep=\",\",header=None)\n",
    "#print(train_data.head())\n",
    "train_data\n",
    "test_data\n",
    "\n",
    "Xtrain_25 = train_data[train_data[64] == 0].sample(25)\n",
    "Xtrain_100 = train_data[train_data[64] == 0].sample(100)\n",
    "#print(Xtrain_25)\n",
    "#print(Xtrain_100)\n",
    "\n",
    "\n",
    "classes = 10\n",
    "X25_train = train_data[train_data[64] == 0].sample(25)\n",
    "X100_train = train_data[train_data[64] == 0].sample(100)\n",
    "#print(X25_train)\n",
    "# print(X100_train)\n",
    "for i in range(1,classes,1):\n",
    "\n",
    "    X25_train = X25_train.append(train_data[train_data[64] == i].sample(25), ignore_index = True)\n",
    "    X100_train = X100_train.append(train_data[train_data[64] == i].sample(100), ignore_index= True)\n",
    "\n",
    "    \n",
    "# get the X_train and Y_train\n",
    "\n",
    "X_train_25 = X25_train.iloc[:,0:64]\n",
    "Y_train_25 = X25_train.iloc[:,64];  #classification or label column\n",
    "\n",
    "X_train_100 = X100_train.iloc[:,0:64]\n",
    "Y_train_100 = X100_train.iloc[:,64];\n",
    "\n",
    "# X_test = test_data.iloc[:,0:64]\n",
    "# Y_test = test_data.iloc[:,64]\n",
    "X_test = test_data[test_data.columns[0:64]]\n",
    "Y_test = test_data[test_data.columns[64]]\n",
    "\n",
    "print(X_test.shape)\n",
    "print(Y_test.shape)\n",
    "print(type(X_test))\n",
    "print(type(Y_test))\n",
    "\n",
    "\n",
    "\n",
    "\n",
    "\n"
   ]
  },
  {
   "cell_type": "markdown",
   "id": "68c4d25d",
   "metadata": {},
   "source": [
    "Q2: Decision Trees, classification: \n",
    "Use library sklearn.tree.DecisionTreeClassifier\n",
    " algorithm. For the DecisionTreeClassifier determine the value of the tree depth parameter (experiment with depth=2, 3, 5, 10)  that results in the best test error. Report the training and test errors for each depth value and the training set. How does the best depth value change as the number of instances change? \n",
    "Note: Check the depth of the your trained decision tree, by e.g. plotting the tree.\n"
   ]
  },
  {
   "cell_type": "code",
   "execution_count": 119,
   "id": "8a25b964",
   "metadata": {},
   "outputs": [
    {
     "name": "stdout",
     "output_type": "stream",
     "text": [
      "Results with 25 instances\n",
      "                Training Error  Test Error\n",
      "Max_Depth = 2            0.620    0.643294\n",
      "Max_Depth = 3            0.448    0.562048\n",
      "Max_Depth = 5            0.172    0.373400\n",
      "Max_Depth = 10           0.012    0.326656\n",
      "\n",
      "Results with 100 instances\n",
      "                Training Error  Test Error\n",
      "Max_Depth = 2            0.695    0.702282\n",
      "Max_Depth = 3            0.591    0.636060\n",
      "Max_Depth = 5            0.247    0.331107\n",
      "Max_Depth = 10           0.012    0.203673\n"
     ]
    }
   ],
   "source": [
    "\n",
    "TrainingError_25 = []\n",
    "TestingError_25=[]\n",
    "\n",
    "TrainingError_100 = []\n",
    "TestingError_100=[]\n",
    "index=[]\n",
    "\n",
    "#storing the max_depth parameters in a list\n",
    "mdepth=[2,3,5,10]\n",
    "#train with 25 instances from each class\n",
    "\n",
    "\n",
    "for i in mdepth:\n",
    "        model = DecisionTreeClassifier(max_depth=i)\n",
    "        model.fit(X_train_25,Y_train_25)\n",
    "        a1=model.score(X_train_25,Y_train_25)\n",
    "        a2=model.score(X_test,Y_test)\n",
    "        TrainingError_25.append(1-a1)\n",
    "        TestingError_25.append(1-a2)\n",
    "\n",
    "#train with 100 instances from each class\n",
    "\n",
    "for i in mdepth:\n",
    "        model = DecisionTreeClassifier(max_depth=i)\n",
    "        model.fit(X_train_100,Y_train_100)\n",
    "        y_pred = model.predict(X_train_100)\n",
    "        y_pred1= model.predict(X_test)\n",
    "        x1=accuracy_score(Y_train_100,y_pred)\n",
    "        x2=accuracy_score(Y_test,y_pred1)\n",
    "        TrainingError_100.append(1-x1)\n",
    "        TestingError_100.append(1-x2)\n",
    "        temp = 'Max_Depth = '+str(i)\n",
    "        index.append(temp)\n",
    "\n",
    "columns = ['Training Error','Test Error']\n",
    "\n",
    "Error_list_25=[]\n",
    "Error_list_100=[]\n",
    "for i in range(len(TrainingError_25)):\n",
    "    Error_list_25.append([TrainingError_25[i],TestingError_25[i]])\n",
    "    Error_list_100.append([TrainingError_100[i],TestingError_100[i]] )\n",
    "    \n",
    "print(\"Results with 25 instances\")   \n",
    "df_train_error_25 = pd.DataFrame(Error_list_25,columns=columns,index=index)\n",
    "print(df_train_error_25.head(20)) \n",
    "\n",
    "print()\n",
    "print(\"Results with 100 instances\")   \n",
    "df_train_error_100 = pd.DataFrame(Error_list_100,columns=columns,index=index)\n",
    "print(df_train_error_100.head(20))\n",
    "\n"
   ]
  },
  {
   "cell_type": "code",
   "execution_count": 138,
   "id": "d2737364",
   "metadata": {},
   "outputs": [
    {
     "data": {
      "image/png": "[encoded data removed]",
      "text/plain": [
       "<Figure size 432x288 with 1 Axes>"
      ]
     },
     "metadata": {
      "needs_background": "light"
     },
     "output_type": "display_data"
    },
    {
     "data": {
      "text/plain": [
       "\"\\nfeature_names = X_train_25.columns\\n\\ndotfile = export_graphviz(model,feature_names=feature_names)\\ngraph = graphviz.Source(dotfile)\\ngraph.render(filename='tree',format='jpg',cleanup=True)\\n\\n\""
      ]
     },
     "execution_count": 138,
     "metadata": {},
     "output_type": "execute_result"
    }
   ],
   "source": [
    "plt.plot(mdepth,TestingError_25,label='Testing error for 25 instances')\n",
    "plt.plot(mdepth,TestingError_100,label='Testing error for 100 instances')\n",
    "plt.legend()\n",
    "plt.xlabel(' Max Depth')\n",
    "plt.ylabel(' Error Rate')\n",
    "\n",
    "plt.show()\n",
    "\n",
    "\"\"\"\n",
    "feature_names = X_train_25.columns\n",
    "\n",
    "dotfile = export_graphviz(model,feature_names=feature_names)\n",
    "graph = graphviz.Source(dotfile)\n",
    "graph.render(filename='tree',format='jpg',cleanup=True)\n",
    "\n",
    "\"\"\"\n"
   ]
  },
  {
   "cell_type": "markdown",
   "id": "d8af32ac",
   "metadata": {},
   "source": [
    "Q2:Repeat Q1 using XGBoost and LightGBM algorithms. Experiment with at least 5 different parameter settings to see their effect on training and test errors. How do best parameters change as the #training instances change? "
   ]
  },
  {
   "cell_type": "code",
   "execution_count": 139,
   "id": "08b50683",
   "metadata": {},
   "outputs": [
    {
     "name": "stdout",
     "output_type": "stream",
     "text": [
      "************ XGBOOST ALGORITHM *************\n",
      "[19:53:17] WARNING: C:/Users/Administrator/workspace/xgboost-win64_release_1.4.0/src/learner.cc:1095: Starting in XGBoost 1.3.0, the default evaluation metric used with the objective 'multi:softprob' was changed from 'merror' to 'mlogloss'. Explicitly set eval_metric if you'd like to restore the old behavior.\n"
     ]
    },
    {
     "name": "stderr",
     "output_type": "stream",
     "text": [
      "C:\\Users\\gangareddy\\AppData\\Roaming\\Python\\Python38\\site-packages\\xgboost\\sklearn.py:1146: UserWarning: The use of label encoder in XGBClassifier is deprecated and will be removed in a future release. To remove this warning, do the following: 1) Pass option use_label_encoder=False when constructing XGBClassifier object; and 2) Encode your labels (y) as integers starting with 0, i.e. 0, 1, 2, ..., [num_class - 1].\n",
      "  warnings.warn(label_encoder_deprecation_msg, UserWarning)\n"
     ]
    },
    {
     "name": "stdout",
     "output_type": "stream",
     "text": [
      "The training error of 25 random instances using SET1parameters  0.0\n",
      "The testing error of 25 random instances using SET1 parameters  0.1112966054535337\n",
      "[19:53:18] WARNING: C:/Users/Administrator/workspace/xgboost-win64_release_1.4.0/src/learner.cc:1095: Starting in XGBoost 1.3.0, the default evaluation metric used with the objective 'multi:softprob' was changed from 'merror' to 'mlogloss'. Explicitly set eval_metric if you'd like to restore the old behavior.\n"
     ]
    },
    {
     "name": "stderr",
     "output_type": "stream",
     "text": [
      "C:\\Users\\gangareddy\\AppData\\Roaming\\Python\\Python38\\site-packages\\xgboost\\sklearn.py:1146: UserWarning: The use of label encoder in XGBClassifier is deprecated and will be removed in a future release. To remove this warning, do the following: 1) Pass option use_label_encoder=False when constructing XGBClassifier object; and 2) Encode your labels (y) as integers starting with 0, i.e. 0, 1, 2, ..., [num_class - 1].\n",
      "  warnings.warn(label_encoder_deprecation_msg, UserWarning)\n"
     ]
    },
    {
     "name": "stdout",
     "output_type": "stream",
     "text": [
      "The training error of 25 random instances using SET2parameters  0.0\n",
      "The testing error of 25 random instances using SET2 parameters  0.12465219810795769\n",
      "[19:53:19] WARNING: C:/Users/Administrator/workspace/xgboost-win64_release_1.4.0/src/learner.cc:1095: Starting in XGBoost 1.3.0, the default evaluation metric used with the objective 'multi:softprob' was changed from 'merror' to 'mlogloss'. Explicitly set eval_metric if you'd like to restore the old behavior.\n"
     ]
    },
    {
     "name": "stderr",
     "output_type": "stream",
     "text": [
      "C:\\Users\\gangareddy\\AppData\\Roaming\\Python\\Python38\\site-packages\\xgboost\\sklearn.py:1146: UserWarning: The use of label encoder in XGBClassifier is deprecated and will be removed in a future release. To remove this warning, do the following: 1) Pass option use_label_encoder=False when constructing XGBClassifier object; and 2) Encode your labels (y) as integers starting with 0, i.e. 0, 1, 2, ..., [num_class - 1].\n",
      "  warnings.warn(label_encoder_deprecation_msg, UserWarning)\n"
     ]
    },
    {
     "name": "stdout",
     "output_type": "stream",
     "text": [
      "The training error of 25 random instances using SET3parameters  0.0\n",
      "The testing error of 25 random instances using SET3 parameters  0.12966054535336669\n",
      "[19:53:20] WARNING: C:/Users/Administrator/workspace/xgboost-win64_release_1.4.0/src/learner.cc:1095: Starting in XGBoost 1.3.0, the default evaluation metric used with the objective 'multi:softprob' was changed from 'merror' to 'mlogloss'. Explicitly set eval_metric if you'd like to restore the old behavior.\n"
     ]
    },
    {
     "name": "stderr",
     "output_type": "stream",
     "text": [
      "C:\\Users\\gangareddy\\AppData\\Roaming\\Python\\Python38\\site-packages\\xgboost\\sklearn.py:1146: UserWarning: The use of label encoder in XGBClassifier is deprecated and will be removed in a future release. To remove this warning, do the following: 1) Pass option use_label_encoder=False when constructing XGBClassifier object; and 2) Encode your labels (y) as integers starting with 0, i.e. 0, 1, 2, ..., [num_class - 1].\n",
      "  warnings.warn(label_encoder_deprecation_msg, UserWarning)\n"
     ]
    },
    {
     "name": "stdout",
     "output_type": "stream",
     "text": [
      "The training error of 25 random instances using SET4parameters  0.0\n",
      "The testing error of 25 random instances using SET4 parameters  0.13578185865331105\n",
      "[19:53:20] WARNING: C:/Users/Administrator/workspace/xgboost-win64_release_1.4.0/src/learner.cc:1095: Starting in XGBoost 1.3.0, the default evaluation metric used with the objective 'multi:softprob' was changed from 'merror' to 'mlogloss'. Explicitly set eval_metric if you'd like to restore the old behavior.\n"
     ]
    },
    {
     "name": "stderr",
     "output_type": "stream",
     "text": [
      "C:\\Users\\gangareddy\\AppData\\Roaming\\Python\\Python38\\site-packages\\xgboost\\sklearn.py:1146: UserWarning: The use of label encoder in XGBClassifier is deprecated and will be removed in a future release. To remove this warning, do the following: 1) Pass option use_label_encoder=False when constructing XGBClassifier object; and 2) Encode your labels (y) as integers starting with 0, i.e. 0, 1, 2, ..., [num_class - 1].\n",
      "  warnings.warn(label_encoder_deprecation_msg, UserWarning)\n"
     ]
    },
    {
     "name": "stdout",
     "output_type": "stream",
     "text": [
      "The training error of 25 random instances using SET5parameters  0.016000000000000014\n",
      "The testing error of 25 random instances using SET5 parameters  0.16082359488035614\n",
      "[19:53:22] WARNING: C:/Users/Administrator/workspace/xgboost-win64_release_1.4.0/src/learner.cc:1095: Starting in XGBoost 1.3.0, the default evaluation metric used with the objective 'multi:softprob' was changed from 'merror' to 'mlogloss'. Explicitly set eval_metric if you'd like to restore the old behavior.\n"
     ]
    },
    {
     "name": "stderr",
     "output_type": "stream",
     "text": [
      "C:\\Users\\gangareddy\\AppData\\Roaming\\Python\\Python38\\site-packages\\xgboost\\sklearn.py:1146: UserWarning: The use of label encoder in XGBClassifier is deprecated and will be removed in a future release. To remove this warning, do the following: 1) Pass option use_label_encoder=False when constructing XGBClassifier object; and 2) Encode your labels (y) as integers starting with 0, i.e. 0, 1, 2, ..., [num_class - 1].\n",
      "  warnings.warn(label_encoder_deprecation_msg, UserWarning)\n"
     ]
    },
    {
     "name": "stdout",
     "output_type": "stream",
     "text": [
      "The training error of 100 random instances using SET1parameters  0.0\n",
      "The testing error of 100 random instances using SET1 parameters  0.0673344462993879\n",
      "[19:53:24] WARNING: C:/Users/Administrator/workspace/xgboost-win64_release_1.4.0/src/learner.cc:1095: Starting in XGBoost 1.3.0, the default evaluation metric used with the objective 'multi:softprob' was changed from 'merror' to 'mlogloss'. Explicitly set eval_metric if you'd like to restore the old behavior.\n"
     ]
    },
    {
     "name": "stderr",
     "output_type": "stream",
     "text": [
      "C:\\Users\\gangareddy\\AppData\\Roaming\\Python\\Python38\\site-packages\\xgboost\\sklearn.py:1146: UserWarning: The use of label encoder in XGBClassifier is deprecated and will be removed in a future release. To remove this warning, do the following: 1) Pass option use_label_encoder=False when constructing XGBClassifier object; and 2) Encode your labels (y) as integers starting with 0, i.e. 0, 1, 2, ..., [num_class - 1].\n",
      "  warnings.warn(label_encoder_deprecation_msg, UserWarning)\n"
     ]
    },
    {
     "name": "stdout",
     "output_type": "stream",
     "text": [
      "The training error of 100 random instances using SET2parameters  0.0\n",
      "The testing error of 100 random instances using SET2 parameters  0.0690038953811909\n",
      "[19:53:26] WARNING: C:/Users/Administrator/workspace/xgboost-win64_release_1.4.0/src/learner.cc:1095: Starting in XGBoost 1.3.0, the default evaluation metric used with the objective 'multi:softprob' was changed from 'merror' to 'mlogloss'. Explicitly set eval_metric if you'd like to restore the old behavior.\n"
     ]
    },
    {
     "name": "stderr",
     "output_type": "stream",
     "text": [
      "C:\\Users\\gangareddy\\AppData\\Roaming\\Python\\Python38\\site-packages\\xgboost\\sklearn.py:1146: UserWarning: The use of label encoder in XGBClassifier is deprecated and will be removed in a future release. To remove this warning, do the following: 1) Pass option use_label_encoder=False when constructing XGBClassifier object; and 2) Encode your labels (y) as integers starting with 0, i.e. 0, 1, 2, ..., [num_class - 1].\n",
      "  warnings.warn(label_encoder_deprecation_msg, UserWarning)\n"
     ]
    },
    {
     "name": "stdout",
     "output_type": "stream",
     "text": [
      "The training error of 100 random instances using SET3parameters  0.0\n",
      "The testing error of 100 random instances using SET3 parameters  0.07679465776293826\n",
      "[19:53:27] WARNING: C:/Users/Administrator/workspace/xgboost-win64_release_1.4.0/src/learner.cc:1095: Starting in XGBoost 1.3.0, the default evaluation metric used with the objective 'multi:softprob' was changed from 'merror' to 'mlogloss'. Explicitly set eval_metric if you'd like to restore the old behavior.\n"
     ]
    },
    {
     "name": "stderr",
     "output_type": "stream",
     "text": [
      "C:\\Users\\gangareddy\\AppData\\Roaming\\Python\\Python38\\site-packages\\xgboost\\sklearn.py:1146: UserWarning: The use of label encoder in XGBClassifier is deprecated and will be removed in a future release. To remove this warning, do the following: 1) Pass option use_label_encoder=False when constructing XGBClassifier object; and 2) Encode your labels (y) as integers starting with 0, i.e. 0, 1, 2, ..., [num_class - 1].\n",
      "  warnings.warn(label_encoder_deprecation_msg, UserWarning)\n"
     ]
    },
    {
     "name": "stdout",
     "output_type": "stream",
     "text": [
      "The training error of 100 random instances using SET4parameters  0.0010000000000000009\n",
      "The testing error of 100 random instances using SET4 parameters  0.07512520868113526\n"
     ]
    },
    {
     "ename": "IndexError",
     "evalue": "list index out of range",
     "output_type": "error",
     "traceback": [
      "\u001b[1;31m---------------------------------------------------------------------------\u001b[0m",
      "\u001b[1;31mIndexError\u001b[0m                                Traceback (most recent call last)",
      "\u001b[1;32m<ipython-input-139-496c13de69bf>\u001b[0m in \u001b[0;36m<module>\u001b[1;34m\u001b[0m\n\u001b[0;32m     16\u001b[0m \u001b[1;33m\u001b[0m\u001b[0m\n\u001b[0;32m     17\u001b[0m \u001b[1;32mfor\u001b[0m \u001b[0mi\u001b[0m \u001b[1;32min\u001b[0m \u001b[0mrange\u001b[0m\u001b[1;33m(\u001b[0m\u001b[1;36m1\u001b[0m\u001b[1;33m,\u001b[0m\u001b[1;36m6\u001b[0m\u001b[1;33m,\u001b[0m\u001b[1;36m1\u001b[0m\u001b[1;33m)\u001b[0m\u001b[1;33m:\u001b[0m\u001b[1;33m\u001b[0m\u001b[1;33m\u001b[0m\u001b[0m\n\u001b[1;32m---> 18\u001b[1;33m     \u001b[0mxgb\u001b[0m \u001b[1;33m=\u001b[0m \u001b[0mXGBClassifier\u001b[0m\u001b[1;33m(\u001b[0m\u001b[0mlearning_rate\u001b[0m\u001b[1;33m=\u001b[0m\u001b[0mlearning_rate\u001b[0m\u001b[1;33m[\u001b[0m\u001b[0mi\u001b[0m\u001b[1;33m]\u001b[0m\u001b[1;33m,\u001b[0m\u001b[0mmax_depth\u001b[0m\u001b[1;33m=\u001b[0m\u001b[0mmax_depth\u001b[0m\u001b[1;33m[\u001b[0m\u001b[0mi\u001b[0m\u001b[1;33m]\u001b[0m\u001b[1;33m,\u001b[0m\u001b[0mmin_child_weight\u001b[0m\u001b[1;33m=\u001b[0m\u001b[0mmin_child_weight\u001b[0m\u001b[1;33m[\u001b[0m\u001b[0mi\u001b[0m\u001b[1;33m]\u001b[0m\u001b[1;33m,\u001b[0m\u001b[0mcolsample_bytree\u001b[0m\u001b[1;33m=\u001b[0m\u001b[0mcolsample_bytree\u001b[0m\u001b[1;33m[\u001b[0m\u001b[0mi\u001b[0m\u001b[1;33m]\u001b[0m\u001b[1;33m)\u001b[0m\u001b[1;33m\u001b[0m\u001b[1;33m\u001b[0m\u001b[0m\n\u001b[0m\u001b[0;32m     19\u001b[0m     \u001b[0mxgb\u001b[0m\u001b[1;33m.\u001b[0m\u001b[0mfit\u001b[0m\u001b[1;33m(\u001b[0m\u001b[0mX_train_100\u001b[0m\u001b[1;33m,\u001b[0m\u001b[0mY_train_100\u001b[0m\u001b[1;33m)\u001b[0m\u001b[1;33m\u001b[0m\u001b[1;33m\u001b[0m\u001b[0m\n\u001b[0;32m     20\u001b[0m     \u001b[0mprint\u001b[0m\u001b[1;33m(\u001b[0m\u001b[1;34m\"The training error of 100 random instances using SET\"\u001b[0m\u001b[1;33m+\u001b[0m\u001b[0mstr\u001b[0m\u001b[1;33m(\u001b[0m\u001b[0mi\u001b[0m\u001b[1;33m)\u001b[0m\u001b[1;33m+\u001b[0m\u001b[1;34m\"parameters \"\u001b[0m\u001b[1;33m,\u001b[0m\u001b[1;36m1\u001b[0m\u001b[1;33m-\u001b[0m\u001b[0mxgb\u001b[0m\u001b[1;33m.\u001b[0m\u001b[0mscore\u001b[0m\u001b[1;33m(\u001b[0m\u001b[0mX_train_100\u001b[0m\u001b[1;33m,\u001b[0m\u001b[0mY_train_100\u001b[0m\u001b[1;33m)\u001b[0m\u001b[1;33m)\u001b[0m\u001b[1;33m\u001b[0m\u001b[1;33m\u001b[0m\u001b[0m\n",
      "\u001b[1;31mIndexError\u001b[0m: list index out of range"
     ]
    }
   ],
   "source": [
    "#XGBOOST\n",
    "print(\"************ XGBOOST ALGORITHM *************\")\n",
    "\n",
    "print()\n",
    "print(\"For 25 random instances\")\n",
    "print()\n",
    "learning_rate= [0.05, 0.10, 0.15, 0.20, 0.25, 0.30 ] \n",
    "max_depth= [3, 4, 5, 6, 8, 10, 12, 15]\n",
    "min_child_weight =[1, 3, 4, 5,7]\n",
    " #The value should be less than 1\n",
    "gamma = [0.0, 0.1, 0.2 , 0.3, 0.4 ]\n",
    " #The value should be less than 1\n",
    "colsample_bytree = [0.3,0.4,0.5,0.6,0.7]\n",
    "\n",
    "for i in range(1,6,1):\n",
    "    xgb = XGBClassifier(learning_rate=learning_rate[i-1],max_depth=max_depth[i-1],min_child_weight=min_child_weight[i-1],gamma=gamma[i-1],colsample_bytree=colsample_bytree[i-1])\n",
    "    xgb.fit(X_train_25,Y_train_25)\n",
    "    print(\"The training error of 25 random instances using SET\"+str(i)+\"parameters \",1-xgb.score(X_train_25,Y_train_25))\n",
    "    print(\"The testing error of 25 random instances using SET\"+str(i)+\" parameters \",1-xgb.score(X_test,Y_test))\n",
    "    \n",
    "for i in range(1,6,1):\n",
    "    xgb = XGBClassifier(learning_rate=learning_rate[i-1],max_depth=max_depth[i-1],min_child_weight=min_child_weight[i-1],colsample_bytree=colsample_bytree[i-1])\n",
    "    xgb.fit(X_train_100,Y_train_100)\n",
    "    print(\"The training error of 100 random instances using SET\"+str(i)+\"parameters \",1-xgb.score(X_train_100,Y_train_100))\n",
    "    print(\"The testing error of 100 random instances using SET\"+str(i)+\" parameters \",1-xgb.score(X_test,Y_test))    "
   ]
  },
  {
   "cell_type": "code",
   "execution_count": 142,
   "id": "424737d7",
   "metadata": {},
   "outputs": [
    {
     "name": "stdout",
     "output_type": "stream",
     "text": [
      "************ LIGHTBGM ALGORITHM *************\n",
      "\n",
      "For 25 random instances\n",
      "\n",
      "The training error of 25 random instances using SET1parameters  0.0\n",
      "The testing error of 25 random instances using SET1 parameters  0.10851419031719534\n",
      "The training error of 25 random instances using SET2parameters  0.0\n",
      "The testing error of 25 random instances using SET2 parameters  0.14134668892598778\n",
      "The training error of 25 random instances using SET3parameters  0.01200000000000001\n",
      "The testing error of 25 random instances using SET3 parameters  0.15414579855314414\n",
      "The training error of 25 random instances using SET4parameters  0.028000000000000025\n",
      "The testing error of 25 random instances using SET4 parameters  0.17417918753478023\n",
      "The training error of 25 random instances using SET5parameters  0.05600000000000005\n",
      "The testing error of 25 random instances using SET5 parameters  0.1769616026711185\n",
      "******************************\n",
      "\n",
      "For 100 random instances\n",
      "\n",
      "The training error of 100 random instances using SET1parameters  0.0\n",
      "The testing error of 100 random instances using SET1 parameters  0.0606566499721759\n",
      "The training error of 100 random instances using SET2parameters  0.0\n",
      "The testing error of 100 random instances using SET2 parameters  0.07067334446299389\n",
      "The training error of 100 random instances using SET3parameters  0.0010000000000000009\n",
      "The testing error of 100 random instances using SET3 parameters  0.07289927657206452\n",
      "The training error of 100 random instances using SET4parameters  0.0040000000000000036\n",
      "The testing error of 100 random instances using SET4 parameters  0.08736783528102388\n",
      "The training error of 100 random instances using SET5parameters  0.007000000000000006\n",
      "The testing error of 100 random instances using SET5 parameters  0.09070673344462998\n"
     ]
    }
   ],
   "source": [
    "#LIGHTBGM\n",
    "print(\"************ LIGHTBGM ALGORITHM *************\")\n",
    "print()\n",
    "print(\"For 25 random instances\")\n",
    "print()\n",
    "learning_rate= [0.05, 0.10, 0.15, 0.20, 0.25, 0.30 ] \n",
    "max_depth= [3, 4, 5, 6, 8, 10, 12, 15]\n",
    "min_child_weight =[1, 3, 4, 5,7]\n",
    " #The value should be less than 1\n",
    "reg_alpha = [0.0, 0.1, 0.2 , 0.3, 0.4 ]\n",
    " #The value should be less than 1\n",
    "colsample_bytree = [0.3,0.4,0.5,0.6,0.7]\n",
    "\n",
    "for i in range(1,6,1):\n",
    "    lgb = LGBMClassifier(learning_rate=learning_rate[i-1],max_depth=max_depth[i-1],min_child_weight=min_child_weight[i-1],reg_alpha=reg_alpha[i-1],colsample_bytree=colsample_bytree[i-1])\n",
    "    lgb.fit(X_train_25,Y_train_25)\n",
    "    print(\"The training error of 25 random instances using SET\"+str(i)+\"parameters \",1-lgb.score(X_train_25,Y_train_25))\n",
    "    print(\"The testing error of 25 random instances using SET\"+str(i)+\" parameters \",1-lgb.score(X_test,Y_test))\n",
    "print(\"******************************\")    \n",
    "print()\n",
    "print(\"For 100 random instances\")\n",
    "print()\n",
    "for i in range(1,6,1):\n",
    "    lgb = LGBMClassifier(learning_rate=learning_rate[i-1],max_depth=max_depth[i-1],min_child_weight=min_child_weight[i-1],reg_alpha=reg_alpha[i-1],colsample_bytree=colsample_bytree[i-1])\n",
    "    lgb.fit(X_train_100,Y_train_100)\n",
    "    print(\"The training error of 100 random instances using SET\"+str(i)+\"parameters \",1-lgb.score(X_train_100,Y_train_100))\n",
    "    print(\"The testing error of 100 random instances using SET\"+str(i)+\" parameters \",1-lgb.score(X_test,Y_test)) \n",
    "\n"
   ]
  },
  {
   "cell_type": "code",
   "execution_count": null,
   "id": "fccc1add",
   "metadata": {},
   "outputs": [],
   "source": []
  }
 ],
 "metadata": {
  "kernelspec": {
   "display_name": "Python 3",
   "language": "python",
   "name": "python3"
  },
  "language_info": {
   "codemirror_mode": {
    "name": "ipython",
    "version": 3
   },
   "file_extension": ".py",
   "mimetype": "text/x-python",
   "name": "python",
   "nbconvert_exporter": "python",
   "pygments_lexer": "ipython3",
   "version": "3.8.2"
  }
 },
 "nbformat": 4,
 "nbformat_minor": 5
}
