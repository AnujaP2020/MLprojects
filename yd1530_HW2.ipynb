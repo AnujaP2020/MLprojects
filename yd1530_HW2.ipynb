{
 "cells": [
  {
   "cell_type": "code",
   "execution_count": 36,
   "id": "2aab498d",
   "metadata": {},
   "outputs": [],
   "source": [
    "import numpy as np\n",
    "from pandas import DataFrame, read_csv, to_numeric\n",
    "from sklearn import cluster\n",
    "from sklearn.naive_bayes import GaussianNB\n",
    "from sklearn.linear_model import LogisticRegression\n",
    "from sklearn.neighbors import KNeighborsClassifier\n",
    "import math"
   ]
  },
  {
   "cell_type": "markdown",
   "id": "50665cca",
   "metadata": {},
   "source": [
    "Q1: Parametric Classification: Using each of the 64 input features separately as the single input dimension, use parametric classification, assuming that the input is distributed according to a Gaussian. Report the training and test errors for the case of each of the 64 features. Which feature(s) give the best test performance? "
   ]
  },
  {
   "cell_type": "code",
   "execution_count": 37,
   "id": "302e2083",
   "metadata": {},
   "outputs": [],
   "source": [
    "\n",
    "XT = read_csv('/media/anuja/study/Anuja/MS/CS_697A_ML/hw2/optdigits_69_N200.tra', sep=\",\")\n",
    "\n"
   ]
  },
  {
   "cell_type": "code",
   "execution_count": 38,
   "id": "64061791",
   "metadata": {},
   "outputs": [
    {
     "name": "stdout",
     "output_type": "stream",
     "text": [
      "     0  0.1  5  14   4  0.2  0.3  0.4  0.5  0.6  ...  0.27  0.28  0.29  4.6  \\\n",
      "0    0    0  0  10  12    0    0    0    0    0  ...     0     0     0    1   \n",
      "1    0    0  2  14  10    0    0    0    0    1  ...     0     0     0    1   \n",
      "2    0    0  2  13   5    0    0    0    0    0  ...     0     0     0    4   \n",
      "3    0    0  2  13   6    0    0    0    0    0  ...     0     0     0    2   \n",
      "4    0    0  1  12  11    0    0    0    0    0  ...     2     0     0    2   \n",
      "..  ..  ... ..  ..  ..  ...  ...  ...  ...  ...  ...   ...   ...   ...  ...   \n",
      "194  0    0  0   8  13   10    5    0    0    0  ...     0     0     0    0   \n",
      "195  0    0  0   3  10   13   12    4    0    0  ...     0     0     0    0   \n",
      "196  0    0  0   4  10   13   12    0    0    0  ...     0     0     0    0   \n",
      "197  0    0  6  14  16    9    0    0    0    5  ...     0     0     0    8   \n",
      "198  0    0  2  13  16    7    0    0    0    0  ...     0     0     0    2   \n",
      "\n",
      "     12.1  14.4   7  0.30  0.31  6.1  \n",
      "0      11    14  12     1     0    6  \n",
      "1      12    14  12     4     0    6  \n",
      "2      15    12   9     1     0    6  \n",
      "3      12    14  12     4     0    6  \n",
      "4      14    15  12     3     0    6  \n",
      "..    ...   ...  ..   ...   ...  ...  \n",
      "194    14    15   2     0     0    9  \n",
      "195     1    15   1     0     0    9  \n",
      "196     2    11   0     0     0    9  \n",
      "197    14    16  13     1     0    9  \n",
      "198    12    16  16     4     0    9  \n",
      "\n",
      "[199 rows x 65 columns]\n",
      "(199, 65)\n"
     ]
    }
   ],
   "source": [
    "# Calling DataFrame constructor \n",
    "df = DataFrame(XT)\n",
    "print(df)\n",
    "print(df.shape)\n",
    "    "
   ]
  },
  {
   "cell_type": "code",
   "execution_count": 39,
   "id": "4d1cfd1a",
   "metadata": {},
   "outputs": [
    {
     "name": "stdout",
     "output_type": "stream",
     "text": [
      "     0.1  5  14   4  0.2  0.3  0.4  0.5  0.6  13  ...  12  0.27  0.28  0.29  \\\n",
      "0      0  0  10  12    0    0    0    0    0   9  ...  14     0     0     0   \n",
      "1      0  2  14  10    0    0    0    0    1  14  ...  15     0     0     0   \n",
      "2      0  2  13   5    0    0    0    0    0  11  ...   6     0     0     0   \n",
      "3      0  2  13   6    0    0    0    0    0  10  ...  13     0     0     0   \n",
      "4      0  1  12  11    0    0    0    0    0   8  ...  15     2     0     0   \n",
      "..   ... ..  ..  ..  ...  ...  ...  ...  ...  ..  ...  ..   ...   ...   ...   \n",
      "194    0  0   8  13   10    5    0    0    0   8  ...   0     0     0     0   \n",
      "195    0  0   3  10   13   12    4    0    0   3  ...   0     0     0     0   \n",
      "196    0  0   4  10   13   12    0    0    0   9  ...   0     0     0     0   \n",
      "197    0  6  14  16    9    0    0    0    5  15  ...   9     0     0     0   \n",
      "198    0  2  13  16    7    0    0    0    0   7  ...  10     0     0     0   \n",
      "\n",
      "     4.6  12.1  14.4   7  0.30  0.31  \n",
      "0      1    11    14  12     1     0  \n",
      "1      1    12    14  12     4     0  \n",
      "2      4    15    12   9     1     0  \n",
      "3      2    12    14  12     4     0  \n",
      "4      2    14    15  12     3     0  \n",
      "..   ...   ...   ...  ..   ...   ...  \n",
      "194    0    14    15   2     0     0  \n",
      "195    0     1    15   1     0     0  \n",
      "196    0     2    11   0     0     0  \n",
      "197    8    14    16  13     1     0  \n",
      "198    2    12    16  16     4     0  \n",
      "\n",
      "[199 rows x 63 columns]\n",
      "0      6\n",
      "1      6\n",
      "2      6\n",
      "3      6\n",
      "4      6\n",
      "      ..\n",
      "194    9\n",
      "195    9\n",
      "196    9\n",
      "197    9\n",
      "198    9\n",
      "Name: 6.1, Length: 199, dtype: int64\n"
     ]
    }
   ],
   "source": [
    "# we have 64 attributes + 1 classification column\n",
    "# all features in x train\n",
    "X_train =  XT.iloc[:,1:64]\n",
    "print(X_train)\n",
    "# outcome or label in Y train\n",
    "Y_train = XT.iloc[:,64]\n",
    "print(Y_train)\n"
   ]
  },
  {
   "cell_type": "code",
   "execution_count": 40,
   "id": "a34433f2",
   "metadata": {},
   "outputs": [
    {
     "name": "stdout",
     "output_type": "stream",
     "text": [
      "printing class1 data\n",
      "[199  65]\n"
     ]
    }
   ],
   "source": [
    "\n",
    "[rows, cols] = df.shape\n",
    "# separate the two classes\n",
    "class1_data = np.array(df.shape)\n",
    "class2_data = []\n",
    "for i in range(rows):\n",
    "    p = XT.iloc[i,64]\n",
    "    if p == 6:\n",
    "        np.append(class1_data,XT.iloc[i,:],axis=0)\n",
    "    if XT.iloc[i,64] == 9:\n",
    "        class2_data.append(XT.iloc[i,:])\n",
    "        \n",
    "print(\"printing class1 data\")        \n",
    "print(class1_data)\n",
    "# print(class2_data)\n",
    "\n"
   ]
  },
  {
   "cell_type": "code",
   "execution_count": null,
   "id": "1acea7a8",
   "metadata": {},
   "outputs": [],
   "source": []
  },
  {
   "cell_type": "code",
   "execution_count": null,
   "id": "ee03202c",
   "metadata": {},
   "outputs": [],
   "source": []
  },
  {
   "cell_type": "markdown",
   "id": "0a0aba09",
   "metadata": {},
   "source": [
    "Q2: Use all the 64 features, assume that inputs are 64 dimensional Gaussians, and assume that for each class the covariance matrix is different. Report the training and test confusion matrices and errors. Hint: eliminate features that have variance zero. "
   ]
  },
  {
   "cell_type": "code",
   "execution_count": null,
   "id": "288567fd",
   "metadata": {},
   "outputs": [],
   "source": []
  },
  {
   "cell_type": "markdown",
   "id": "4281975d",
   "metadata": {},
   "source": [
    "Q3: Repeat Q2, assuming that all the class covariance matrices are the same. "
   ]
  },
  {
   "cell_type": "code",
   "execution_count": null,
   "id": "7e7157b2",
   "metadata": {},
   "outputs": [],
   "source": []
  },
  {
   "cell_type": "markdown",
   "id": "c77b857e",
   "metadata": {},
   "source": [
    "Q4: Use the first 10 features in Q1 that gave the best test performance and repeat Q2. Compare the test error performance you got to Q2. "
   ]
  },
  {
   "cell_type": "code",
   "execution_count": null,
   "id": "5d863358",
   "metadata": {},
   "outputs": [],
   "source": []
  }
 ],
 "metadata": {
  "kernelspec": {
   "display_name": "Python 3",
   "language": "python",
   "name": "python3"
  },
  "language_info": {
   "codemirror_mode": {
    "name": "ipython",
    "version": 3
   },
   "file_extension": ".py",
   "mimetype": "text/x-python",
   "name": "python",
   "nbconvert_exporter": "python",
   "pygments_lexer": "ipython3",
   "version": "3.7.6"
  }
 },
 "nbformat": 4,
 "nbformat_minor": 5
}
